{
  "nbformat": 4,
  "nbformat_minor": 0,
  "metadata": {
    "colab": {
      "name": "Hotel booking Analysis.ipynb",
      "provenance": []
    },
    "kernelspec": {
      "name": "python3",
      "display_name": "Python 3"
    },
    "language_info": {
      "name": "python"
    }
  },
  "cells": [
    {
      "cell_type": "markdown",
      "source": [
        "Exlporing  and Comapring different Machine Learning Algotihms to predict Visitors who are likely to cancel their booking. "
      ],
      "metadata": {
        "id": "k3jMHhH1CWfy"
      }
    },
    {
      "cell_type": "markdown",
      "source": [
        "Contributors: Divyanshu Kumar"
      ],
      "metadata": {
        "id": "M8pd9H_ACi7F"
      }
    },
    {
      "cell_type": "code",
      "source": [
        "# Importing Neccessary Libraries\n",
        "import numpy as np\n",
        "import pandas as pd\n",
        "#For data visualization\n",
        "import matplotlib.pyplot as plt\n",
        "import seaborn as sns\n",
        "#For ML\n",
        "from sklearn.model_selection import train_test_split\n",
        "from sklearn.model_selection import GridSearchCV\n",
        "from sklearn.tree import DecisionTreeClassifier\n",
        "from sklearn.svm import SVC\n",
        "from sklearn.ensemble import RandomForestClassifier\n",
        "from sklearn.metrics import accuracy_score\n",
        "from sklearn.preprocessing import StandardScaler\n",
        "from sklearn.pipeline import Pipeline\n",
        "from sklearn.model_selection import RepeatedStratifiedKFold\n",
        "from sklearn.linear_model import LogisticRegression\n",
        "from sklearn.naive_bayes import GaussianNB"
      ],
      "metadata": {
        "id": "Rhm2SvcCCo7M"
      },
      "execution_count": 54,
      "outputs": []
    },
    {
      "cell_type": "code",
      "execution_count": 55,
      "metadata": {
        "id": "40yOvl3cCSXf"
      },
      "outputs": [],
      "source": [
        "#Importing the dataset\n",
        "hotels = pd.read_csv('https://raw.githubusercontent.com/rfordatascience/tidytuesday/master/data/2020/2020-02-11/hotels.csv')"
      ]
    },
    {
      "cell_type": "markdown",
      "source": [
        "### Basic Exploratory Data Analysis"
      ],
      "metadata": {
        "id": "VLWwdBXcEkPh"
      }
    },
    {
      "cell_type": "code",
      "source": [
        "#Checking the Shape of the Dataset\n",
        "print(\"Row count {} Column Count {}\".format(hotels.shape[0],hotels.shape[1]))"
      ],
      "metadata": {
        "colab": {
          "base_uri": "https://localhost:8080/"
        },
        "id": "lUX3YUmKEphY",
        "outputId": "ee8f80d3-77af-45f5-fa93-a899549e2c3b"
      },
      "execution_count": 56,
      "outputs": [
        {
          "output_type": "stream",
          "name": "stdout",
          "text": [
            "Row count 119390 Column Count 32\n"
          ]
        }
      ]
    },
    {
      "cell_type": "code",
      "source": [
        "#checking Variable wise Null Count\n",
        "for i in range(hotels.shape[1]):\n",
        "  print(\"Null vlaue count for Variable {} is {}\".format(hotels.columns[i],hotels.iloc[:,i].isnull().sum()))"
      ],
      "metadata": {
        "colab": {
          "base_uri": "https://localhost:8080/"
        },
        "id": "bo8N68NyFKG2",
        "outputId": "7ec52ff2-a580-449b-e29c-e5fd6cafa6f3"
      },
      "execution_count": 57,
      "outputs": [
        {
          "output_type": "stream",
          "name": "stdout",
          "text": [
            "Null vlaue count for Variable hotel is 0\n",
            "Null vlaue count for Variable is_canceled is 0\n",
            "Null vlaue count for Variable lead_time is 0\n",
            "Null vlaue count for Variable arrival_date_year is 0\n",
            "Null vlaue count for Variable arrival_date_month is 0\n",
            "Null vlaue count for Variable arrival_date_week_number is 0\n",
            "Null vlaue count for Variable arrival_date_day_of_month is 0\n",
            "Null vlaue count for Variable stays_in_weekend_nights is 0\n",
            "Null vlaue count for Variable stays_in_week_nights is 0\n",
            "Null vlaue count for Variable adults is 0\n",
            "Null vlaue count for Variable children is 4\n",
            "Null vlaue count for Variable babies is 0\n",
            "Null vlaue count for Variable meal is 0\n",
            "Null vlaue count for Variable country is 488\n",
            "Null vlaue count for Variable market_segment is 0\n",
            "Null vlaue count for Variable distribution_channel is 0\n",
            "Null vlaue count for Variable is_repeated_guest is 0\n",
            "Null vlaue count for Variable previous_cancellations is 0\n",
            "Null vlaue count for Variable previous_bookings_not_canceled is 0\n",
            "Null vlaue count for Variable reserved_room_type is 0\n",
            "Null vlaue count for Variable assigned_room_type is 0\n",
            "Null vlaue count for Variable booking_changes is 0\n",
            "Null vlaue count for Variable deposit_type is 0\n",
            "Null vlaue count for Variable agent is 16340\n",
            "Null vlaue count for Variable company is 112593\n",
            "Null vlaue count for Variable days_in_waiting_list is 0\n",
            "Null vlaue count for Variable customer_type is 0\n",
            "Null vlaue count for Variable adr is 0\n",
            "Null vlaue count for Variable required_car_parking_spaces is 0\n",
            "Null vlaue count for Variable total_of_special_requests is 0\n",
            "Null vlaue count for Variable reservation_status is 0\n",
            "Null vlaue count for Variable reservation_status_date is 0\n"
          ]
        }
      ]
    },
    {
      "cell_type": "markdown",
      "source": [
        "The dataset is relatively clean with just one variable named children having null values. It would be replaced by the mode as mean could given us a non-interger value and No. of children must be a discrete value. "
      ],
      "metadata": {
        "id": "_XjNunnFGFWP"
      }
    },
    {
      "cell_type": "code",
      "source": [
        "#Imputing Data\n",
        "import statistics\n",
        "hotels[\"children\"].fillna(statistics.mode(hotels['children']), inplace = True)"
      ],
      "metadata": {
        "id": "kXuUs5zMGE8u"
      },
      "execution_count": 58,
      "outputs": []
    },
    {
      "cell_type": "code",
      "source": [
        "print(\"Null values for children column\",hotels['children'].isnull().sum())"
      ],
      "metadata": {
        "colab": {
          "base_uri": "https://localhost:8080/"
        },
        "id": "Klk3hZCAF-tM",
        "outputId": "ec2937a8-b5f6-4fe2-a0d9-44475dfa3cbe"
      },
      "execution_count": 59,
      "outputs": [
        {
          "output_type": "stream",
          "name": "stdout",
          "text": [
            "Null values for children column 0\n"
          ]
        }
      ]
    },
    {
      "cell_type": "markdown",
      "source": [
        "We would have to remove agent and comapny coulmn as they have too many NA values."
      ],
      "metadata": {
        "id": "4Sxhz6VkVTwS"
      }
    },
    {
      "cell_type": "code",
      "source": [
        "hotels.columns"
      ],
      "metadata": {
        "colab": {
          "base_uri": "https://localhost:8080/"
        },
        "id": "i9_fjBUuThz_",
        "outputId": "7f7e388e-17ac-4b04-ce6e-332dc6fc00d1"
      },
      "execution_count": 60,
      "outputs": [
        {
          "output_type": "execute_result",
          "data": {
            "text/plain": [
              "Index(['hotel', 'is_canceled', 'lead_time', 'arrival_date_year',\n",
              "       'arrival_date_month', 'arrival_date_week_number',\n",
              "       'arrival_date_day_of_month', 'stays_in_weekend_nights',\n",
              "       'stays_in_week_nights', 'adults', 'children', 'babies', 'meal',\n",
              "       'country', 'market_segment', 'distribution_channel',\n",
              "       'is_repeated_guest', 'previous_cancellations',\n",
              "       'previous_bookings_not_canceled', 'reserved_room_type',\n",
              "       'assigned_room_type', 'booking_changes', 'deposit_type', 'agent',\n",
              "       'company', 'days_in_waiting_list', 'customer_type', 'adr',\n",
              "       'required_car_parking_spaces', 'total_of_special_requests',\n",
              "       'reservation_status', 'reservation_status_date'],\n",
              "      dtype='object')"
            ]
          },
          "metadata": {},
          "execution_count": 60
        }
      ]
    },
    {
      "cell_type": "markdown",
      "source": [
        "Using describe() will summary statistics of all numerical columns. We will take this list of columns to create a new dataset. We do this because for our classification task, Algos like SVM won't work with numerical values."
      ],
      "metadata": {
        "id": "vVyiWO9dHYXP"
      }
    },
    {
      "cell_type": "code",
      "source": [
        "hotels.describe().columns"
      ],
      "metadata": {
        "colab": {
          "base_uri": "https://localhost:8080/"
        },
        "id": "_qfpoF5ATlXa",
        "outputId": "3acc3ab7-33f7-47f2-ebc2-e57bc0cfac2e"
      },
      "execution_count": 61,
      "outputs": [
        {
          "output_type": "execute_result",
          "data": {
            "text/plain": [
              "Index(['is_canceled', 'lead_time', 'arrival_date_year',\n",
              "       'arrival_date_week_number', 'arrival_date_day_of_month',\n",
              "       'stays_in_weekend_nights', 'stays_in_week_nights', 'adults', 'children',\n",
              "       'babies', 'is_repeated_guest', 'previous_cancellations',\n",
              "       'previous_bookings_not_canceled', 'booking_changes', 'agent', 'company',\n",
              "       'days_in_waiting_list', 'adr', 'required_car_parking_spaces',\n",
              "       'total_of_special_requests'],\n",
              "      dtype='object')"
            ]
          },
          "metadata": {},
          "execution_count": 61
        }
      ]
    },
    {
      "cell_type": "code",
      "source": [
        "#New dataset with only numerical columns\n",
        "hotels_one = hotels[hotels.describe().columns]"
      ],
      "metadata": {
        "id": "gRs_-8XeTuWP"
      },
      "execution_count": 62,
      "outputs": []
    },
    {
      "cell_type": "markdown",
      "source": [
        "We would need to drop variables agent and comapany because they have a lot of NA values."
      ],
      "metadata": {
        "id": "bWPwg94FNPAF"
      }
    },
    {
      "cell_type": "code",
      "source": [
        "hotels_one = hotels_one[hotels_one.columns.difference(['agent','company'])]"
      ],
      "metadata": {
        "id": "4UWzUln_NN5l"
      },
      "execution_count": 63,
      "outputs": []
    },
    {
      "cell_type": "code",
      "source": [
        "hotels_one.shape"
      ],
      "metadata": {
        "colab": {
          "base_uri": "https://localhost:8080/"
        },
        "id": "jdCq34xuT1Zp",
        "outputId": "9397ba7d-7fbe-4b9a-ab21-95977ff87c38"
      },
      "execution_count": 64,
      "outputs": [
        {
          "output_type": "execute_result",
          "data": {
            "text/plain": [
              "(119390, 18)"
            ]
          },
          "metadata": {},
          "execution_count": 64
        }
      ]
    },
    {
      "cell_type": "code",
      "source": [
        "hotels_one.describe()"
      ],
      "metadata": {
        "colab": {
          "base_uri": "https://localhost:8080/",
          "height": 364
        },
        "id": "0TzhFMabH1Zo",
        "outputId": "00a6ae65-bc83-4fe2-ace4-3f857aa8f21a"
      },
      "execution_count": 65,
      "outputs": [
        {
          "output_type": "execute_result",
          "data": {
            "text/html": [
              "\n",
              "  <div id=\"df-bef59a7e-494b-499c-a5c2-1dc65364e584\">\n",
              "    <div class=\"colab-df-container\">\n",
              "      <div>\n",
              "<style scoped>\n",
              "    .dataframe tbody tr th:only-of-type {\n",
              "        vertical-align: middle;\n",
              "    }\n",
              "\n",
              "    .dataframe tbody tr th {\n",
              "        vertical-align: top;\n",
              "    }\n",
              "\n",
              "    .dataframe thead th {\n",
              "        text-align: right;\n",
              "    }\n",
              "</style>\n",
              "<table border=\"1\" class=\"dataframe\">\n",
              "  <thead>\n",
              "    <tr style=\"text-align: right;\">\n",
              "      <th></th>\n",
              "      <th>adr</th>\n",
              "      <th>adults</th>\n",
              "      <th>arrival_date_day_of_month</th>\n",
              "      <th>arrival_date_week_number</th>\n",
              "      <th>arrival_date_year</th>\n",
              "      <th>babies</th>\n",
              "      <th>booking_changes</th>\n",
              "      <th>children</th>\n",
              "      <th>days_in_waiting_list</th>\n",
              "      <th>is_canceled</th>\n",
              "      <th>is_repeated_guest</th>\n",
              "      <th>lead_time</th>\n",
              "      <th>previous_bookings_not_canceled</th>\n",
              "      <th>previous_cancellations</th>\n",
              "      <th>required_car_parking_spaces</th>\n",
              "      <th>stays_in_week_nights</th>\n",
              "      <th>stays_in_weekend_nights</th>\n",
              "      <th>total_of_special_requests</th>\n",
              "    </tr>\n",
              "  </thead>\n",
              "  <tbody>\n",
              "    <tr>\n",
              "      <th>count</th>\n",
              "      <td>119390.000000</td>\n",
              "      <td>119390.000000</td>\n",
              "      <td>119390.000000</td>\n",
              "      <td>119390.000000</td>\n",
              "      <td>119390.000000</td>\n",
              "      <td>119390.000000</td>\n",
              "      <td>119390.000000</td>\n",
              "      <td>119390.000000</td>\n",
              "      <td>119390.000000</td>\n",
              "      <td>119390.000000</td>\n",
              "      <td>119390.000000</td>\n",
              "      <td>119390.000000</td>\n",
              "      <td>119390.000000</td>\n",
              "      <td>119390.000000</td>\n",
              "      <td>119390.000000</td>\n",
              "      <td>119390.000000</td>\n",
              "      <td>119390.000000</td>\n",
              "      <td>119390.000000</td>\n",
              "    </tr>\n",
              "    <tr>\n",
              "      <th>mean</th>\n",
              "      <td>101.831122</td>\n",
              "      <td>1.856403</td>\n",
              "      <td>15.798241</td>\n",
              "      <td>27.165173</td>\n",
              "      <td>2016.156554</td>\n",
              "      <td>0.007949</td>\n",
              "      <td>0.221124</td>\n",
              "      <td>0.103886</td>\n",
              "      <td>2.321149</td>\n",
              "      <td>0.370416</td>\n",
              "      <td>0.031912</td>\n",
              "      <td>104.011416</td>\n",
              "      <td>0.137097</td>\n",
              "      <td>0.087118</td>\n",
              "      <td>0.062518</td>\n",
              "      <td>2.500302</td>\n",
              "      <td>0.927599</td>\n",
              "      <td>0.571363</td>\n",
              "    </tr>\n",
              "    <tr>\n",
              "      <th>std</th>\n",
              "      <td>50.535790</td>\n",
              "      <td>0.579261</td>\n",
              "      <td>8.780829</td>\n",
              "      <td>13.605138</td>\n",
              "      <td>0.707476</td>\n",
              "      <td>0.097436</td>\n",
              "      <td>0.652306</td>\n",
              "      <td>0.398555</td>\n",
              "      <td>17.594721</td>\n",
              "      <td>0.482918</td>\n",
              "      <td>0.175767</td>\n",
              "      <td>106.863097</td>\n",
              "      <td>1.497437</td>\n",
              "      <td>0.844336</td>\n",
              "      <td>0.245291</td>\n",
              "      <td>1.908286</td>\n",
              "      <td>0.998613</td>\n",
              "      <td>0.792798</td>\n",
              "    </tr>\n",
              "    <tr>\n",
              "      <th>min</th>\n",
              "      <td>-6.380000</td>\n",
              "      <td>0.000000</td>\n",
              "      <td>1.000000</td>\n",
              "      <td>1.000000</td>\n",
              "      <td>2015.000000</td>\n",
              "      <td>0.000000</td>\n",
              "      <td>0.000000</td>\n",
              "      <td>0.000000</td>\n",
              "      <td>0.000000</td>\n",
              "      <td>0.000000</td>\n",
              "      <td>0.000000</td>\n",
              "      <td>0.000000</td>\n",
              "      <td>0.000000</td>\n",
              "      <td>0.000000</td>\n",
              "      <td>0.000000</td>\n",
              "      <td>0.000000</td>\n",
              "      <td>0.000000</td>\n",
              "      <td>0.000000</td>\n",
              "    </tr>\n",
              "    <tr>\n",
              "      <th>25%</th>\n",
              "      <td>69.290000</td>\n",
              "      <td>2.000000</td>\n",
              "      <td>8.000000</td>\n",
              "      <td>16.000000</td>\n",
              "      <td>2016.000000</td>\n",
              "      <td>0.000000</td>\n",
              "      <td>0.000000</td>\n",
              "      <td>0.000000</td>\n",
              "      <td>0.000000</td>\n",
              "      <td>0.000000</td>\n",
              "      <td>0.000000</td>\n",
              "      <td>18.000000</td>\n",
              "      <td>0.000000</td>\n",
              "      <td>0.000000</td>\n",
              "      <td>0.000000</td>\n",
              "      <td>1.000000</td>\n",
              "      <td>0.000000</td>\n",
              "      <td>0.000000</td>\n",
              "    </tr>\n",
              "    <tr>\n",
              "      <th>50%</th>\n",
              "      <td>94.575000</td>\n",
              "      <td>2.000000</td>\n",
              "      <td>16.000000</td>\n",
              "      <td>28.000000</td>\n",
              "      <td>2016.000000</td>\n",
              "      <td>0.000000</td>\n",
              "      <td>0.000000</td>\n",
              "      <td>0.000000</td>\n",
              "      <td>0.000000</td>\n",
              "      <td>0.000000</td>\n",
              "      <td>0.000000</td>\n",
              "      <td>69.000000</td>\n",
              "      <td>0.000000</td>\n",
              "      <td>0.000000</td>\n",
              "      <td>0.000000</td>\n",
              "      <td>2.000000</td>\n",
              "      <td>1.000000</td>\n",
              "      <td>0.000000</td>\n",
              "    </tr>\n",
              "    <tr>\n",
              "      <th>75%</th>\n",
              "      <td>126.000000</td>\n",
              "      <td>2.000000</td>\n",
              "      <td>23.000000</td>\n",
              "      <td>38.000000</td>\n",
              "      <td>2017.000000</td>\n",
              "      <td>0.000000</td>\n",
              "      <td>0.000000</td>\n",
              "      <td>0.000000</td>\n",
              "      <td>0.000000</td>\n",
              "      <td>1.000000</td>\n",
              "      <td>0.000000</td>\n",
              "      <td>160.000000</td>\n",
              "      <td>0.000000</td>\n",
              "      <td>0.000000</td>\n",
              "      <td>0.000000</td>\n",
              "      <td>3.000000</td>\n",
              "      <td>2.000000</td>\n",
              "      <td>1.000000</td>\n",
              "    </tr>\n",
              "    <tr>\n",
              "      <th>max</th>\n",
              "      <td>5400.000000</td>\n",
              "      <td>55.000000</td>\n",
              "      <td>31.000000</td>\n",
              "      <td>53.000000</td>\n",
              "      <td>2017.000000</td>\n",
              "      <td>10.000000</td>\n",
              "      <td>21.000000</td>\n",
              "      <td>10.000000</td>\n",
              "      <td>391.000000</td>\n",
              "      <td>1.000000</td>\n",
              "      <td>1.000000</td>\n",
              "      <td>737.000000</td>\n",
              "      <td>72.000000</td>\n",
              "      <td>26.000000</td>\n",
              "      <td>8.000000</td>\n",
              "      <td>50.000000</td>\n",
              "      <td>19.000000</td>\n",
              "      <td>5.000000</td>\n",
              "    </tr>\n",
              "  </tbody>\n",
              "</table>\n",
              "</div>\n",
              "      <button class=\"colab-df-convert\" onclick=\"convertToInteractive('df-bef59a7e-494b-499c-a5c2-1dc65364e584')\"\n",
              "              title=\"Convert this dataframe to an interactive table.\"\n",
              "              style=\"display:none;\">\n",
              "        \n",
              "  <svg xmlns=\"http://www.w3.org/2000/svg\" height=\"24px\"viewBox=\"0 0 24 24\"\n",
              "       width=\"24px\">\n",
              "    <path d=\"M0 0h24v24H0V0z\" fill=\"none\"/>\n",
              "    <path d=\"M18.56 5.44l.94 2.06.94-2.06 2.06-.94-2.06-.94-.94-2.06-.94 2.06-2.06.94zm-11 1L8.5 8.5l.94-2.06 2.06-.94-2.06-.94L8.5 2.5l-.94 2.06-2.06.94zm10 10l.94 2.06.94-2.06 2.06-.94-2.06-.94-.94-2.06-.94 2.06-2.06.94z\"/><path d=\"M17.41 7.96l-1.37-1.37c-.4-.4-.92-.59-1.43-.59-.52 0-1.04.2-1.43.59L10.3 9.45l-7.72 7.72c-.78.78-.78 2.05 0 2.83L4 21.41c.39.39.9.59 1.41.59.51 0 1.02-.2 1.41-.59l7.78-7.78 2.81-2.81c.8-.78.8-2.07 0-2.86zM5.41 20L4 18.59l7.72-7.72 1.47 1.35L5.41 20z\"/>\n",
              "  </svg>\n",
              "      </button>\n",
              "      \n",
              "  <style>\n",
              "    .colab-df-container {\n",
              "      display:flex;\n",
              "      flex-wrap:wrap;\n",
              "      gap: 12px;\n",
              "    }\n",
              "\n",
              "    .colab-df-convert {\n",
              "      background-color: #E8F0FE;\n",
              "      border: none;\n",
              "      border-radius: 50%;\n",
              "      cursor: pointer;\n",
              "      display: none;\n",
              "      fill: #1967D2;\n",
              "      height: 32px;\n",
              "      padding: 0 0 0 0;\n",
              "      width: 32px;\n",
              "    }\n",
              "\n",
              "    .colab-df-convert:hover {\n",
              "      background-color: #E2EBFA;\n",
              "      box-shadow: 0px 1px 2px rgba(60, 64, 67, 0.3), 0px 1px 3px 1px rgba(60, 64, 67, 0.15);\n",
              "      fill: #174EA6;\n",
              "    }\n",
              "\n",
              "    [theme=dark] .colab-df-convert {\n",
              "      background-color: #3B4455;\n",
              "      fill: #D2E3FC;\n",
              "    }\n",
              "\n",
              "    [theme=dark] .colab-df-convert:hover {\n",
              "      background-color: #434B5C;\n",
              "      box-shadow: 0px 1px 3px 1px rgba(0, 0, 0, 0.15);\n",
              "      filter: drop-shadow(0px 1px 2px rgba(0, 0, 0, 0.3));\n",
              "      fill: #FFFFFF;\n",
              "    }\n",
              "  </style>\n",
              "\n",
              "      <script>\n",
              "        const buttonEl =\n",
              "          document.querySelector('#df-bef59a7e-494b-499c-a5c2-1dc65364e584 button.colab-df-convert');\n",
              "        buttonEl.style.display =\n",
              "          google.colab.kernel.accessAllowed ? 'block' : 'none';\n",
              "\n",
              "        async function convertToInteractive(key) {\n",
              "          const element = document.querySelector('#df-bef59a7e-494b-499c-a5c2-1dc65364e584');\n",
              "          const dataTable =\n",
              "            await google.colab.kernel.invokeFunction('convertToInteractive',\n",
              "                                                     [key], {});\n",
              "          if (!dataTable) return;\n",
              "\n",
              "          const docLinkHtml = 'Like what you see? Visit the ' +\n",
              "            '<a target=\"_blank\" href=https://colab.research.google.com/notebooks/data_table.ipynb>data table notebook</a>'\n",
              "            + ' to learn more about interactive tables.';\n",
              "          element.innerHTML = '';\n",
              "          dataTable['output_type'] = 'display_data';\n",
              "          await google.colab.output.renderOutput(dataTable, element);\n",
              "          const docLink = document.createElement('div');\n",
              "          docLink.innerHTML = docLinkHtml;\n",
              "          element.appendChild(docLink);\n",
              "        }\n",
              "      </script>\n",
              "    </div>\n",
              "  </div>\n",
              "  "
            ],
            "text/plain": [
              "                 adr  ...  total_of_special_requests\n",
              "count  119390.000000  ...              119390.000000\n",
              "mean      101.831122  ...                   0.571363\n",
              "std        50.535790  ...                   0.792798\n",
              "min        -6.380000  ...                   0.000000\n",
              "25%        69.290000  ...                   0.000000\n",
              "50%        94.575000  ...                   0.000000\n",
              "75%       126.000000  ...                   1.000000\n",
              "max      5400.000000  ...                   5.000000\n",
              "\n",
              "[8 rows x 18 columns]"
            ]
          },
          "metadata": {},
          "execution_count": 65
        }
      ]
    },
    {
      "cell_type": "code",
      "source": [
        "#exploring the correlation matrix and variance for each variable to get rid of reduntant features\n",
        "cor_mat = hotels_one.corr()\n",
        "sns.heatmap(cor_mat, cmap=\"YlGnBu\")\n",
        "plt.show()"
      ],
      "metadata": {
        "colab": {
          "base_uri": "https://localhost:8080/",
          "height": 423
        },
        "id": "_Km1dWpgeqEG",
        "outputId": "1f6067c7-1086-4f6f-858b-cc57c077908d"
      },
      "execution_count": 66,
      "outputs": [
        {
          "output_type": "display_data",
          "data": {
            "image/png": "[encoded data removed]",
            "text/plain": [
              "<Figure size 432x288 with 2 Axes>"
            ]
          },
          "metadata": {
            "needs_background": "light"
          }
        }
      ]
    },
    {
      "cell_type": "markdown",
      "source": [
        "Correlation among different variable seems to be below one."
      ],
      "metadata": {
        "id": "HaE44sq9fwRc"
      }
    },
    {
      "cell_type": "code",
      "source": [
        "#checking whether any variable has variance = 0. It can also be done by looking at summary statistics.\n",
        "for i in range(hotels_one.shape[1]):\n",
        "  if hotels_one.iloc[:,i].var() == 0:\n",
        "    print(\"{} has Variance 0\".format(hotels_one.columns[i]))\n"
      ],
      "metadata": {
        "id": "rW2HhBVZf9xv"
      },
      "execution_count": 67,
      "outputs": []
    },
    {
      "cell_type": "markdown",
      "source": [
        "No output means no value is equal to 0."
      ],
      "metadata": {
        "id": "BtVJrtxbgvbc"
      }
    },
    {
      "cell_type": "markdown",
      "source": [
        "Our target Variable is the is_cancelled column. Let's explore it"
      ],
      "metadata": {
        "id": "umi9eJMfITQp"
      }
    },
    {
      "cell_type": "code",
      "source": [
        "hotels['is_canceled'].value_counts()"
      ],
      "metadata": {
        "colab": {
          "base_uri": "https://localhost:8080/"
        },
        "id": "ZA9A1ziaIczz",
        "outputId": "e47e1401-8499-4cb1-bd76-7870fa0adbeb"
      },
      "execution_count": 68,
      "outputs": [
        {
          "output_type": "execute_result",
          "data": {
            "text/plain": [
              "0    75166\n",
              "1    44224\n",
              "Name: is_canceled, dtype: int64"
            ]
          },
          "metadata": {},
          "execution_count": 68
        }
      ]
    },
    {
      "cell_type": "markdown",
      "source": [
        "About One-third of the bookings have been cancelled."
      ],
      "metadata": {
        "id": "QrBNltgkIm_9"
      }
    },
    {
      "cell_type": "markdown",
      "source": [
        "Model Analysis: Initiating a table that will have the output of multiple Classification models.\n",
        "\n"
      ],
      "metadata": {
        "id": "tgs6l4gxNxfx"
      }
    },
    {
      "cell_type": "code",
      "source": [
        "Model_results = pd.DataFrame(columns = [\"Model\", \"Test accuracy\"])"
      ],
      "metadata": {
        "id": "Sg9cS-gYN0NZ"
      },
      "execution_count": 69,
      "outputs": []
    },
    {
      "cell_type": "markdown",
      "source": [
        "###Classification: "
      ],
      "metadata": {
        "id": "HaWLLt9sHwM8"
      }
    },
    {
      "cell_type": "markdown",
      "source": [
        "The aim of this analysis is to train different models and analyse which model does the best when it comes to predicting which visitors would cancel their hotel bookings."
      ],
      "metadata": {
        "id": "wmGXQB0WJB4g"
      }
    },
    {
      "cell_type": "code",
      "source": [
        "# Preparing the Dataset\n",
        "X,y = train_test_split(hotels_one,test_size= 0.2)"
      ],
      "metadata": {
        "id": "lHaOc47cJxnV"
      },
      "execution_count": 70,
      "outputs": []
    },
    {
      "cell_type": "code",
      "source": [
        "print(\"Shape of X\",X.shape)\n",
        "print(\"Shape of y\",y.shape)"
      ],
      "metadata": {
        "colab": {
          "base_uri": "https://localhost:8080/"
        },
        "id": "XO-GzF-sKH23",
        "outputId": "b79d6fe4-7e89-47e2-9246-3997ac78716c"
      },
      "execution_count": 71,
      "outputs": [
        {
          "output_type": "stream",
          "name": "stdout",
          "text": [
            "Shape of X (95512, 18)\n",
            "Shape of y (23878, 18)\n"
          ]
        }
      ]
    },
    {
      "cell_type": "markdown",
      "source": [
        "Splitting further into X_train,y_train,X_test and y_test"
      ],
      "metadata": {
        "id": "IEPpzgZeK4Xb"
      }
    },
    {
      "cell_type": "code",
      "source": [
        "y_train = X['is_canceled']\n",
        "X_train = X[X.columns.difference(['is_canceled'])]"
      ],
      "metadata": {
        "id": "ej9v5HNLK3Cw"
      },
      "execution_count": 72,
      "outputs": []
    },
    {
      "cell_type": "code",
      "source": [
        "y_test = y['is_canceled']\n",
        "X_test = y[y.columns.difference(['is_canceled'])]"
      ],
      "metadata": {
        "id": "R1zTEmXTLbY1"
      },
      "execution_count": 73,
      "outputs": []
    },
    {
      "cell_type": "markdown",
      "source": [
        "We now have seperated the labels from the dataset."
      ],
      "metadata": {
        "id": "hRTXCWNHMXBZ"
      }
    },
    {
      "cell_type": "markdown",
      "source": [
        "#### First Model: Decision Trees "
      ],
      "metadata": {
        "id": "8tb3UrzHMpOd"
      }
    },
    {
      "cell_type": "markdown",
      "source": [
        "Utilizing Grid Search to find the optimal parameters."
      ],
      "metadata": {
        "id": "c7bdCuDHqFFM"
      }
    },
    {
      "cell_type": "code",
      "source": [
        "#for scaling Data\n",
        "std_slc = StandardScaler()\n",
        "#Intializing Model\n",
        "dec_tree = DecisionTreeClassifier()\n",
        "#Create pipeline\n",
        "pipe = Pipeline(steps=[('std_slc', std_slc),\n",
        "                      ('dec_tree', dec_tree)])\n",
        "#set parameters\n",
        "criterion = ['gini', 'entropy']\n",
        "max_depth = [2,4,6,8,10,12]\n",
        "parameters = dict(dec_tree__criterion=criterion,\n",
        "                  dec_tree__max_depth=max_depth)\n",
        "clf_GS = GridSearchCV(pipe, parameters)\n",
        "clf_GS.fit(X_train, y_train)\n"
      ],
      "metadata": {
        "colab": {
          "base_uri": "https://localhost:8080/"
        },
        "id": "uyJz8OYWMuIf",
        "outputId": "a9c3b50d-3a65-453d-fbcd-53eee344b415"
      },
      "execution_count": 74,
      "outputs": [
        {
          "output_type": "execute_result",
          "data": {
            "text/plain": [
              "GridSearchCV(estimator=Pipeline(steps=[('std_slc', StandardScaler()),\n",
              "                                       ('dec_tree', DecisionTreeClassifier())]),\n",
              "             param_grid={'dec_tree__criterion': ['gini', 'entropy'],\n",
              "                         'dec_tree__max_depth': [2, 4, 6, 8, 10, 12]})"
            ]
          },
          "metadata": {},
          "execution_count": 74
        }
      ]
    },
    {
      "cell_type": "code",
      "source": [
        "print('Best Criterion:', clf_GS.best_estimator_.get_params()['dec_tree__criterion'])\n",
        "print('Best max_depth:', clf_GS.best_estimator_.get_params()['dec_tree__max_depth'])"
      ],
      "metadata": {
        "colab": {
          "base_uri": "https://localhost:8080/"
        },
        "id": "voYtFpMYVyLq",
        "outputId": "b9632db3-b7e7-432e-9eba-2c21405ad654"
      },
      "execution_count": 75,
      "outputs": [
        {
          "output_type": "stream",
          "name": "stdout",
          "text": [
            "Best Criterion: gini\n",
            "Best max_depth: 12\n"
          ]
        }
      ]
    },
    {
      "cell_type": "markdown",
      "source": [
        "So we will use these parameters to predict on X_test and get our accuracy score."
      ],
      "metadata": {
        "id": "aqkaZ9iPWHQh"
      }
    },
    {
      "cell_type": "code",
      "source": [
        "dec_tree_best = DecisionTreeClassifier(criterion='gini',max_depth=12)\n",
        "std_slc.fit_transform(X_train,X_test)\n",
        "dec_tree_best.fit(X_train,y_train)\n",
        "pred = dec_tree_best.predict(X_test)\n",
        "acc = accuracy_score(pred,y_test)\n",
        "print(acc)"
      ],
      "metadata": {
        "colab": {
          "base_uri": "https://localhost:8080/"
        },
        "id": "2NOnPnWjWTe-",
        "outputId": "c166933a-4ebc-45dc-a74b-958d3f863d7d"
      },
      "execution_count": 76,
      "outputs": [
        {
          "output_type": "stream",
          "name": "stdout",
          "text": [
            "0.783859619733646\n"
          ]
        }
      ]
    },
    {
      "cell_type": "code",
      "source": [
        "Model_results = Model_results.append({\"Model\": \"Decision Tree\", \"Test accuracy\":acc},ignore_index=True)"
      ],
      "metadata": {
        "id": "a9mfAZJEP0Go"
      },
      "execution_count": 77,
      "outputs": []
    },
    {
      "cell_type": "code",
      "source": [
        "Model_results"
      ],
      "metadata": {
        "colab": {
          "base_uri": "https://localhost:8080/",
          "height": 81
        },
        "id": "29ve2weYQLAg",
        "outputId": "f823b11c-8254-4d47-a35d-ec2f6ab853e5"
      },
      "execution_count": 78,
      "outputs": [
        {
          "output_type": "execute_result",
          "data": {
            "text/html": [
              "\n",
              "  <div id=\"df-a9960ebe-ba3b-42ad-b3b9-30aef6461473\">\n",
              "    <div class=\"colab-df-container\">\n",
              "      <div>\n",
              "<style scoped>\n",
              "    .dataframe tbody tr th:only-of-type {\n",
              "        vertical-align: middle;\n",
              "    }\n",
              "\n",
              "    .dataframe tbody tr th {\n",
              "        vertical-align: top;\n",
              "    }\n",
              "\n",
              "    .dataframe thead th {\n",
              "        text-align: right;\n",
              "    }\n",
              "</style>\n",
              "<table border=\"1\" class=\"dataframe\">\n",
              "  <thead>\n",
              "    <tr style=\"text-align: right;\">\n",
              "      <th></th>\n",
              "      <th>Model</th>\n",
              "      <th>Test accuracy</th>\n",
              "    </tr>\n",
              "  </thead>\n",
              "  <tbody>\n",
              "    <tr>\n",
              "      <th>0</th>\n",
              "      <td>Decision Tree</td>\n",
              "      <td>0.78386</td>\n",
              "    </tr>\n",
              "  </tbody>\n",
              "</table>\n",
              "</div>\n",
              "      <button class=\"colab-df-convert\" onclick=\"convertToInteractive('df-a9960ebe-ba3b-42ad-b3b9-30aef6461473')\"\n",
              "              title=\"Convert this dataframe to an interactive table.\"\n",
              "              style=\"display:none;\">\n",
              "        \n",
              "  <svg xmlns=\"http://www.w3.org/2000/svg\" height=\"24px\"viewBox=\"0 0 24 24\"\n",
              "       width=\"24px\">\n",
              "    <path d=\"M0 0h24v24H0V0z\" fill=\"none\"/>\n",
              "    <path d=\"M18.56 5.44l.94 2.06.94-2.06 2.06-.94-2.06-.94-.94-2.06-.94 2.06-2.06.94zm-11 1L8.5 8.5l.94-2.06 2.06-.94-2.06-.94L8.5 2.5l-.94 2.06-2.06.94zm10 10l.94 2.06.94-2.06 2.06-.94-2.06-.94-.94-2.06-.94 2.06-2.06.94z\"/><path d=\"M17.41 7.96l-1.37-1.37c-.4-.4-.92-.59-1.43-.59-.52 0-1.04.2-1.43.59L10.3 9.45l-7.72 7.72c-.78.78-.78 2.05 0 2.83L4 21.41c.39.39.9.59 1.41.59.51 0 1.02-.2 1.41-.59l7.78-7.78 2.81-2.81c.8-.78.8-2.07 0-2.86zM5.41 20L4 18.59l7.72-7.72 1.47 1.35L5.41 20z\"/>\n",
              "  </svg>\n",
              "      </button>\n",
              "      \n",
              "  <style>\n",
              "    .colab-df-container {\n",
              "      display:flex;\n",
              "      flex-wrap:wrap;\n",
              "      gap: 12px;\n",
              "    }\n",
              "\n",
              "    .colab-df-convert {\n",
              "      background-color: #E8F0FE;\n",
              "      border: none;\n",
              "      border-radius: 50%;\n",
              "      cursor: pointer;\n",
              "      display: none;\n",
              "      fill: #1967D2;\n",
              "      height: 32px;\n",
              "      padding: 0 0 0 0;\n",
              "      width: 32px;\n",
              "    }\n",
              "\n",
              "    .colab-df-convert:hover {\n",
              "      background-color: #E2EBFA;\n",
              "      box-shadow: 0px 1px 2px rgba(60, 64, 67, 0.3), 0px 1px 3px 1px rgba(60, 64, 67, 0.15);\n",
              "      fill: #174EA6;\n",
              "    }\n",
              "\n",
              "    [theme=dark] .colab-df-convert {\n",
              "      background-color: #3B4455;\n",
              "      fill: #D2E3FC;\n",
              "    }\n",
              "\n",
              "    [theme=dark] .colab-df-convert:hover {\n",
              "      background-color: #434B5C;\n",
              "      box-shadow: 0px 1px 3px 1px rgba(0, 0, 0, 0.15);\n",
              "      filter: drop-shadow(0px 1px 2px rgba(0, 0, 0, 0.3));\n",
              "      fill: #FFFFFF;\n",
              "    }\n",
              "  </style>\n",
              "\n",
              "      <script>\n",
              "        const buttonEl =\n",
              "          document.querySelector('#df-a9960ebe-ba3b-42ad-b3b9-30aef6461473 button.colab-df-convert');\n",
              "        buttonEl.style.display =\n",
              "          google.colab.kernel.accessAllowed ? 'block' : 'none';\n",
              "\n",
              "        async function convertToInteractive(key) {\n",
              "          const element = document.querySelector('#df-a9960ebe-ba3b-42ad-b3b9-30aef6461473');\n",
              "          const dataTable =\n",
              "            await google.colab.kernel.invokeFunction('convertToInteractive',\n",
              "                                                     [key], {});\n",
              "          if (!dataTable) return;\n",
              "\n",
              "          const docLinkHtml = 'Like what you see? Visit the ' +\n",
              "            '<a target=\"_blank\" href=https://colab.research.google.com/notebooks/data_table.ipynb>data table notebook</a>'\n",
              "            + ' to learn more about interactive tables.';\n",
              "          element.innerHTML = '';\n",
              "          dataTable['output_type'] = 'display_data';\n",
              "          await google.colab.output.renderOutput(dataTable, element);\n",
              "          const docLink = document.createElement('div');\n",
              "          docLink.innerHTML = docLinkHtml;\n",
              "          element.appendChild(docLink);\n",
              "        }\n",
              "      </script>\n",
              "    </div>\n",
              "  </div>\n",
              "  "
            ],
            "text/plain": [
              "           Model  Test accuracy\n",
              "0  Decision Tree        0.78386"
            ]
          },
          "metadata": {},
          "execution_count": 78
        }
      ]
    },
    {
      "cell_type": "markdown",
      "source": [
        "###Support Vector Machines"
      ],
      "metadata": {
        "id": "8Xn7ZQ6wQZ9y"
      }
    },
    {
      "cell_type": "markdown",
      "source": [
        "One of the key advantages of SVM is that it can work with Fewer datapoints. So we will subset 10000 datapoints."
      ],
      "metadata": {
        "id": "Xu3Ow6UGZOpI"
      }
    },
    {
      "cell_type": "code",
      "source": [
        "X_train_sub = X_train.iloc[:10000,:]\n",
        "y_train_sub = y_train.iloc[:10000]"
      ],
      "metadata": {
        "id": "qKpt5i9bdDw4"
      },
      "execution_count": 79,
      "outputs": []
    },
    {
      "cell_type": "markdown",
      "source": [
        "We are going to try three different models:\n",
        "* Linear\n",
        "\n",
        "* Ploynomial\n",
        "* Radial Basis Kernel\n",
        "\n"
      ],
      "metadata": {
        "id": "8099EC-BTQoL"
      }
    },
    {
      "cell_type": "markdown",
      "source": [
        "####Linear"
      ],
      "metadata": {
        "id": "liyXrwcPUzgD"
      }
    },
    {
      "cell_type": "code",
      "source": [
        "lin_svm = SVC(kernel= 'linear',C = 0.5)\n",
        "lin_svm.fit(X_train_sub,y_train_sub)"
      ],
      "metadata": {
        "colab": {
          "base_uri": "https://localhost:8080/"
        },
        "id": "gplAuprVchrx",
        "outputId": "f3d07645-be04-4cca-a9bd-f1903ff80ea9"
      },
      "execution_count": 80,
      "outputs": [
        {
          "output_type": "execute_result",
          "data": {
            "text/plain": [
              "SVC(C=0.5, kernel='linear')"
            ]
          },
          "metadata": {},
          "execution_count": 80
        }
      ]
    },
    {
      "cell_type": "code",
      "source": [
        "pred = lin_svm.predict(X_test)\n",
        "acc = accuracy_score(pred,y_test)\n",
        "print(acc)"
      ],
      "metadata": {
        "colab": {
          "base_uri": "https://localhost:8080/"
        },
        "id": "4fCvf3aTxu51",
        "outputId": "5f55c81a-500d-4d5e-8c34-d95edec6c025"
      },
      "execution_count": 81,
      "outputs": [
        {
          "output_type": "stream",
          "name": "stdout",
          "text": [
            "0.7274059804003685\n"
          ]
        }
      ]
    },
    {
      "cell_type": "code",
      "source": [
        "Model_results = Model_results.append({\"Model\": \"SVM Linear : 0.5\", \"Test accuracy\":acc},ignore_index=True)"
      ],
      "metadata": {
        "id": "_ByxAXTgyW_R"
      },
      "execution_count": 82,
      "outputs": []
    },
    {
      "cell_type": "markdown",
      "source": [
        "We wil try 2 more models with different values of C."
      ],
      "metadata": {
        "id": "l-AvFU0oyg4p"
      }
    },
    {
      "cell_type": "code",
      "source": [
        "C_list = [0.1,1]\n",
        "for i in range(2):\n",
        "  lin_svm = SVC(kernel= 'linear',C = C_list[i])\n",
        "  lin_svm.fit(X_train_sub,y_train_sub)\n",
        "  pred = lin_svm.predict(X_test)\n",
        "  acc = accuracy_score(pred,y_test)\n",
        "  Model_results = Model_results.append({\"Model\": \"SVM Linear : {}\".format(C_list[i]), \"Test accuracy\":acc},ignore_index=True)"
      ],
      "metadata": {
        "id": "K4KCBKs6zlff"
      },
      "execution_count": 83,
      "outputs": []
    },
    {
      "cell_type": "code",
      "source": [
        "Model_results"
      ],
      "metadata": {
        "colab": {
          "base_uri": "https://localhost:8080/",
          "height": 175
        },
        "id": "wu3JIWRd0ALc",
        "outputId": "8a41ce3f-a7ce-4c43-c729-9e819c6cc675"
      },
      "execution_count": 84,
      "outputs": [
        {
          "output_type": "execute_result",
          "data": {
            "text/html": [
              "\n",
              "  <div id=\"df-ee96df4f-f81f-4dcf-a522-8846313cea2f\">\n",
              "    <div class=\"colab-df-container\">\n",
              "      <div>\n",
              "<style scoped>\n",
              "    .dataframe tbody tr th:only-of-type {\n",
              "        vertical-align: middle;\n",
              "    }\n",
              "\n",
              "    .dataframe tbody tr th {\n",
              "        vertical-align: top;\n",
              "    }\n",
              "\n",
              "    .dataframe thead th {\n",
              "        text-align: right;\n",
              "    }\n",
              "</style>\n",
              "<table border=\"1\" class=\"dataframe\">\n",
              "  <thead>\n",
              "    <tr style=\"text-align: right;\">\n",
              "      <th></th>\n",
              "      <th>Model</th>\n",
              "      <th>Test accuracy</th>\n",
              "    </tr>\n",
              "  </thead>\n",
              "  <tbody>\n",
              "    <tr>\n",
              "      <th>0</th>\n",
              "      <td>Decision Tree</td>\n",
              "      <td>0.783860</td>\n",
              "    </tr>\n",
              "    <tr>\n",
              "      <th>1</th>\n",
              "      <td>SVM Linear : 0.5</td>\n",
              "      <td>0.727406</td>\n",
              "    </tr>\n",
              "    <tr>\n",
              "      <th>2</th>\n",
              "      <td>SVM Linear : 0.1</td>\n",
              "      <td>0.725438</td>\n",
              "    </tr>\n",
              "    <tr>\n",
              "      <th>3</th>\n",
              "      <td>SVM Linear : 1</td>\n",
              "      <td>0.720580</td>\n",
              "    </tr>\n",
              "  </tbody>\n",
              "</table>\n",
              "</div>\n",
              "      <button class=\"colab-df-convert\" onclick=\"convertToInteractive('df-ee96df4f-f81f-4dcf-a522-8846313cea2f')\"\n",
              "              title=\"Convert this dataframe to an interactive table.\"\n",
              "              style=\"display:none;\">\n",
              "        \n",
              "  <svg xmlns=\"http://www.w3.org/2000/svg\" height=\"24px\"viewBox=\"0 0 24 24\"\n",
              "       width=\"24px\">\n",
              "    <path d=\"M0 0h24v24H0V0z\" fill=\"none\"/>\n",
              "    <path d=\"M18.56 5.44l.94 2.06.94-2.06 2.06-.94-2.06-.94-.94-2.06-.94 2.06-2.06.94zm-11 1L8.5 8.5l.94-2.06 2.06-.94-2.06-.94L8.5 2.5l-.94 2.06-2.06.94zm10 10l.94 2.06.94-2.06 2.06-.94-2.06-.94-.94-2.06-.94 2.06-2.06.94z\"/><path d=\"M17.41 7.96l-1.37-1.37c-.4-.4-.92-.59-1.43-.59-.52 0-1.04.2-1.43.59L10.3 9.45l-7.72 7.72c-.78.78-.78 2.05 0 2.83L4 21.41c.39.39.9.59 1.41.59.51 0 1.02-.2 1.41-.59l7.78-7.78 2.81-2.81c.8-.78.8-2.07 0-2.86zM5.41 20L4 18.59l7.72-7.72 1.47 1.35L5.41 20z\"/>\n",
              "  </svg>\n",
              "      </button>\n",
              "      \n",
              "  <style>\n",
              "    .colab-df-container {\n",
              "      display:flex;\n",
              "      flex-wrap:wrap;\n",
              "      gap: 12px;\n",
              "    }\n",
              "\n",
              "    .colab-df-convert {\n",
              "      background-color: #E8F0FE;\n",
              "      border: none;\n",
              "      border-radius: 50%;\n",
              "      cursor: pointer;\n",
              "      display: none;\n",
              "      fill: #1967D2;\n",
              "      height: 32px;\n",
              "      padding: 0 0 0 0;\n",
              "      width: 32px;\n",
              "    }\n",
              "\n",
              "    .colab-df-convert:hover {\n",
              "      background-color: #E2EBFA;\n",
              "      box-shadow: 0px 1px 2px rgba(60, 64, 67, 0.3), 0px 1px 3px 1px rgba(60, 64, 67, 0.15);\n",
              "      fill: #174EA6;\n",
              "    }\n",
              "\n",
              "    [theme=dark] .colab-df-convert {\n",
              "      background-color: #3B4455;\n",
              "      fill: #D2E3FC;\n",
              "    }\n",
              "\n",
              "    [theme=dark] .colab-df-convert:hover {\n",
              "      background-color: #434B5C;\n",
              "      box-shadow: 0px 1px 3px 1px rgba(0, 0, 0, 0.15);\n",
              "      filter: drop-shadow(0px 1px 2px rgba(0, 0, 0, 0.3));\n",
              "      fill: #FFFFFF;\n",
              "    }\n",
              "  </style>\n",
              "\n",
              "      <script>\n",
              "        const buttonEl =\n",
              "          document.querySelector('#df-ee96df4f-f81f-4dcf-a522-8846313cea2f button.colab-df-convert');\n",
              "        buttonEl.style.display =\n",
              "          google.colab.kernel.accessAllowed ? 'block' : 'none';\n",
              "\n",
              "        async function convertToInteractive(key) {\n",
              "          const element = document.querySelector('#df-ee96df4f-f81f-4dcf-a522-8846313cea2f');\n",
              "          const dataTable =\n",
              "            await google.colab.kernel.invokeFunction('convertToInteractive',\n",
              "                                                     [key], {});\n",
              "          if (!dataTable) return;\n",
              "\n",
              "          const docLinkHtml = 'Like what you see? Visit the ' +\n",
              "            '<a target=\"_blank\" href=https://colab.research.google.com/notebooks/data_table.ipynb>data table notebook</a>'\n",
              "            + ' to learn more about interactive tables.';\n",
              "          element.innerHTML = '';\n",
              "          dataTable['output_type'] = 'display_data';\n",
              "          await google.colab.output.renderOutput(dataTable, element);\n",
              "          const docLink = document.createElement('div');\n",
              "          docLink.innerHTML = docLinkHtml;\n",
              "          element.appendChild(docLink);\n",
              "        }\n",
              "      </script>\n",
              "    </div>\n",
              "  </div>\n",
              "  "
            ],
            "text/plain": [
              "              Model  Test accuracy\n",
              "0     Decision Tree       0.783860\n",
              "1  SVM Linear : 0.5       0.727406\n",
              "2  SVM Linear : 0.1       0.725438\n",
              "3    SVM Linear : 1       0.720580"
            ]
          },
          "metadata": {},
          "execution_count": 84
        }
      ]
    },
    {
      "cell_type": "markdown",
      "source": [
        "We'll now try Polynomial SVM with different C values and different degrees"
      ],
      "metadata": {
        "id": "aYdotFZ70Kua"
      }
    },
    {
      "cell_type": "code",
      "source": [
        "D_list = [2,3,4]\n",
        "for i in range(3):\n",
        "  poly_svm = SVC(kernel= 'poly',C = 1,degree = D_list[i])\n",
        "  poly_svm.fit(X_train_sub,y_train_sub)\n",
        "  pred = poly_svm.predict(X_test)\n",
        "  acc = accuracy_score(pred,y_test)\n",
        "  Model_results = Model_results.append({\"Model\": \"SVM Polynomial : {}\".format(D_list[i]), \"Test accuracy\":acc},ignore_index=True)"
      ],
      "metadata": {
        "id": "WjqPnfIO1FGU"
      },
      "execution_count": 85,
      "outputs": []
    },
    {
      "cell_type": "code",
      "source": [
        "Model_results"
      ],
      "metadata": {
        "colab": {
          "base_uri": "https://localhost:8080/",
          "height": 269
        },
        "id": "91MmfB3M29kk",
        "outputId": "52f832eb-46e9-4b36-bb60-4a32ac94422f"
      },
      "execution_count": 86,
      "outputs": [
        {
          "output_type": "execute_result",
          "data": {
            "text/html": [
              "\n",
              "  <div id=\"df-66dd0035-a060-49ad-b649-d42b7cb1f9e1\">\n",
              "    <div class=\"colab-df-container\">\n",
              "      <div>\n",
              "<style scoped>\n",
              "    .dataframe tbody tr th:only-of-type {\n",
              "        vertical-align: middle;\n",
              "    }\n",
              "\n",
              "    .dataframe tbody tr th {\n",
              "        vertical-align: top;\n",
              "    }\n",
              "\n",
              "    .dataframe thead th {\n",
              "        text-align: right;\n",
              "    }\n",
              "</style>\n",
              "<table border=\"1\" class=\"dataframe\">\n",
              "  <thead>\n",
              "    <tr style=\"text-align: right;\">\n",
              "      <th></th>\n",
              "      <th>Model</th>\n",
              "      <th>Test accuracy</th>\n",
              "    </tr>\n",
              "  </thead>\n",
              "  <tbody>\n",
              "    <tr>\n",
              "      <th>0</th>\n",
              "      <td>Decision Tree</td>\n",
              "      <td>0.783860</td>\n",
              "    </tr>\n",
              "    <tr>\n",
              "      <th>1</th>\n",
              "      <td>SVM Linear : 0.5</td>\n",
              "      <td>0.727406</td>\n",
              "    </tr>\n",
              "    <tr>\n",
              "      <th>2</th>\n",
              "      <td>SVM Linear : 0.1</td>\n",
              "      <td>0.725438</td>\n",
              "    </tr>\n",
              "    <tr>\n",
              "      <th>3</th>\n",
              "      <td>SVM Linear : 1</td>\n",
              "      <td>0.720580</td>\n",
              "    </tr>\n",
              "    <tr>\n",
              "      <th>4</th>\n",
              "      <td>SVM Polynomial : 2</td>\n",
              "      <td>0.663205</td>\n",
              "    </tr>\n",
              "    <tr>\n",
              "      <th>5</th>\n",
              "      <td>SVM Polynomial : 3</td>\n",
              "      <td>0.664084</td>\n",
              "    </tr>\n",
              "    <tr>\n",
              "      <th>6</th>\n",
              "      <td>SVM Polynomial : 4</td>\n",
              "      <td>0.658472</td>\n",
              "    </tr>\n",
              "  </tbody>\n",
              "</table>\n",
              "</div>\n",
              "      <button class=\"colab-df-convert\" onclick=\"convertToInteractive('df-66dd0035-a060-49ad-b649-d42b7cb1f9e1')\"\n",
              "              title=\"Convert this dataframe to an interactive table.\"\n",
              "              style=\"display:none;\">\n",
              "        \n",
              "  <svg xmlns=\"http://www.w3.org/2000/svg\" height=\"24px\"viewBox=\"0 0 24 24\"\n",
              "       width=\"24px\">\n",
              "    <path d=\"M0 0h24v24H0V0z\" fill=\"none\"/>\n",
              "    <path d=\"M18.56 5.44l.94 2.06.94-2.06 2.06-.94-2.06-.94-.94-2.06-.94 2.06-2.06.94zm-11 1L8.5 8.5l.94-2.06 2.06-.94-2.06-.94L8.5 2.5l-.94 2.06-2.06.94zm10 10l.94 2.06.94-2.06 2.06-.94-2.06-.94-.94-2.06-.94 2.06-2.06.94z\"/><path d=\"M17.41 7.96l-1.37-1.37c-.4-.4-.92-.59-1.43-.59-.52 0-1.04.2-1.43.59L10.3 9.45l-7.72 7.72c-.78.78-.78 2.05 0 2.83L4 21.41c.39.39.9.59 1.41.59.51 0 1.02-.2 1.41-.59l7.78-7.78 2.81-2.81c.8-.78.8-2.07 0-2.86zM5.41 20L4 18.59l7.72-7.72 1.47 1.35L5.41 20z\"/>\n",
              "  </svg>\n",
              "      </button>\n",
              "      \n",
              "  <style>\n",
              "    .colab-df-container {\n",
              "      display:flex;\n",
              "      flex-wrap:wrap;\n",
              "      gap: 12px;\n",
              "    }\n",
              "\n",
              "    .colab-df-convert {\n",
              "      background-color: #E8F0FE;\n",
              "      border: none;\n",
              "      border-radius: 50%;\n",
              "      cursor: pointer;\n",
              "      display: none;\n",
              "      fill: #1967D2;\n",
              "      height: 32px;\n",
              "      padding: 0 0 0 0;\n",
              "      width: 32px;\n",
              "    }\n",
              "\n",
              "    .colab-df-convert:hover {\n",
              "      background-color: #E2EBFA;\n",
              "      box-shadow: 0px 1px 2px rgba(60, 64, 67, 0.3), 0px 1px 3px 1px rgba(60, 64, 67, 0.15);\n",
              "      fill: #174EA6;\n",
              "    }\n",
              "\n",
              "    [theme=dark] .colab-df-convert {\n",
              "      background-color: #3B4455;\n",
              "      fill: #D2E3FC;\n",
              "    }\n",
              "\n",
              "    [theme=dark] .colab-df-convert:hover {\n",
              "      background-color: #434B5C;\n",
              "      box-shadow: 0px 1px 3px 1px rgba(0, 0, 0, 0.15);\n",
              "      filter: drop-shadow(0px 1px 2px rgba(0, 0, 0, 0.3));\n",
              "      fill: #FFFFFF;\n",
              "    }\n",
              "  </style>\n",
              "\n",
              "      <script>\n",
              "        const buttonEl =\n",
              "          document.querySelector('#df-66dd0035-a060-49ad-b649-d42b7cb1f9e1 button.colab-df-convert');\n",
              "        buttonEl.style.display =\n",
              "          google.colab.kernel.accessAllowed ? 'block' : 'none';\n",
              "\n",
              "        async function convertToInteractive(key) {\n",
              "          const element = document.querySelector('#df-66dd0035-a060-49ad-b649-d42b7cb1f9e1');\n",
              "          const dataTable =\n",
              "            await google.colab.kernel.invokeFunction('convertToInteractive',\n",
              "                                                     [key], {});\n",
              "          if (!dataTable) return;\n",
              "\n",
              "          const docLinkHtml = 'Like what you see? Visit the ' +\n",
              "            '<a target=\"_blank\" href=https://colab.research.google.com/notebooks/data_table.ipynb>data table notebook</a>'\n",
              "            + ' to learn more about interactive tables.';\n",
              "          element.innerHTML = '';\n",
              "          dataTable['output_type'] = 'display_data';\n",
              "          await google.colab.output.renderOutput(dataTable, element);\n",
              "          const docLink = document.createElement('div');\n",
              "          docLink.innerHTML = docLinkHtml;\n",
              "          element.appendChild(docLink);\n",
              "        }\n",
              "      </script>\n",
              "    </div>\n",
              "  </div>\n",
              "  "
            ],
            "text/plain": [
              "                Model  Test accuracy\n",
              "0       Decision Tree       0.783860\n",
              "1    SVM Linear : 0.5       0.727406\n",
              "2    SVM Linear : 0.1       0.725438\n",
              "3      SVM Linear : 1       0.720580\n",
              "4  SVM Polynomial : 2       0.663205\n",
              "5  SVM Polynomial : 3       0.664084\n",
              "6  SVM Polynomial : 4       0.658472"
            ]
          },
          "metadata": {},
          "execution_count": 86
        }
      ]
    },
    {
      "cell_type": "markdown",
      "source": [
        "Using different Degrees for Polynomial regression doesn't seem to help much."
      ],
      "metadata": {
        "id": "XICHDitM3Fuc"
      }
    },
    {
      "cell_type": "markdown",
      "source": [
        "Now we will try different models with rbf kernel."
      ],
      "metadata": {
        "id": "P-0kBMWl3PbZ"
      }
    },
    {
      "cell_type": "code",
      "source": [
        "gamma_list = [0.01,0.1,1]\n",
        "for i in range(3):\n",
        "  rbf_svm = SVC(kernel= 'rbf',C = 1,gamma = gamma_list[i])\n",
        "  rbf_svm.fit(X_train_sub,y_train_sub)\n",
        "  pred = rbf_svm.predict(X_test)\n",
        "  acc = accuracy_score(pred,y_test)\n",
        "  Model_results = Model_results.append({\"Model\": \"SVM Rbf with gamma: {}\".format(gamma_list[i]), \"Test accuracy\":acc},ignore_index=True)"
      ],
      "metadata": {
        "id": "oqni7oTA3PLd"
      },
      "execution_count": 87,
      "outputs": []
    },
    {
      "cell_type": "code",
      "source": [
        "Model_results"
      ],
      "metadata": {
        "colab": {
          "base_uri": "https://localhost:8080/",
          "height": 363
        },
        "id": "86wZUJdK7nnA",
        "outputId": "b52f00e9-5446-4f55-cb7f-0e3d0c8902fc"
      },
      "execution_count": 88,
      "outputs": [
        {
          "output_type": "execute_result",
          "data": {
            "text/html": [
              "\n",
              "  <div id=\"df-562aef2f-1e1c-495b-8d43-d8b613dcc491\">\n",
              "    <div class=\"colab-df-container\">\n",
              "      <div>\n",
              "<style scoped>\n",
              "    .dataframe tbody tr th:only-of-type {\n",
              "        vertical-align: middle;\n",
              "    }\n",
              "\n",
              "    .dataframe tbody tr th {\n",
              "        vertical-align: top;\n",
              "    }\n",
              "\n",
              "    .dataframe thead th {\n",
              "        text-align: right;\n",
              "    }\n",
              "</style>\n",
              "<table border=\"1\" class=\"dataframe\">\n",
              "  <thead>\n",
              "    <tr style=\"text-align: right;\">\n",
              "      <th></th>\n",
              "      <th>Model</th>\n",
              "      <th>Test accuracy</th>\n",
              "    </tr>\n",
              "  </thead>\n",
              "  <tbody>\n",
              "    <tr>\n",
              "      <th>0</th>\n",
              "      <td>Decision Tree</td>\n",
              "      <td>0.783860</td>\n",
              "    </tr>\n",
              "    <tr>\n",
              "      <th>1</th>\n",
              "      <td>SVM Linear : 0.5</td>\n",
              "      <td>0.727406</td>\n",
              "    </tr>\n",
              "    <tr>\n",
              "      <th>2</th>\n",
              "      <td>SVM Linear : 0.1</td>\n",
              "      <td>0.725438</td>\n",
              "    </tr>\n",
              "    <tr>\n",
              "      <th>3</th>\n",
              "      <td>SVM Linear : 1</td>\n",
              "      <td>0.720580</td>\n",
              "    </tr>\n",
              "    <tr>\n",
              "      <th>4</th>\n",
              "      <td>SVM Polynomial : 2</td>\n",
              "      <td>0.663205</td>\n",
              "    </tr>\n",
              "    <tr>\n",
              "      <th>5</th>\n",
              "      <td>SVM Polynomial : 3</td>\n",
              "      <td>0.664084</td>\n",
              "    </tr>\n",
              "    <tr>\n",
              "      <th>6</th>\n",
              "      <td>SVM Polynomial : 4</td>\n",
              "      <td>0.658472</td>\n",
              "    </tr>\n",
              "    <tr>\n",
              "      <th>7</th>\n",
              "      <td>SVM Rbf with gamma: 0.01</td>\n",
              "      <td>0.724768</td>\n",
              "    </tr>\n",
              "    <tr>\n",
              "      <th>8</th>\n",
              "      <td>SVM Rbf with gamma: 0.1</td>\n",
              "      <td>0.754795</td>\n",
              "    </tr>\n",
              "    <tr>\n",
              "      <th>9</th>\n",
              "      <td>SVM Rbf with gamma: 1</td>\n",
              "      <td>0.755423</td>\n",
              "    </tr>\n",
              "  </tbody>\n",
              "</table>\n",
              "</div>\n",
              "      <button class=\"colab-df-convert\" onclick=\"convertToInteractive('df-562aef2f-1e1c-495b-8d43-d8b613dcc491')\"\n",
              "              title=\"Convert this dataframe to an interactive table.\"\n",
              "              style=\"display:none;\">\n",
              "        \n",
              "  <svg xmlns=\"http://www.w3.org/2000/svg\" height=\"24px\"viewBox=\"0 0 24 24\"\n",
              "       width=\"24px\">\n",
              "    <path d=\"M0 0h24v24H0V0z\" fill=\"none\"/>\n",
              "    <path d=\"M18.56 5.44l.94 2.06.94-2.06 2.06-.94-2.06-.94-.94-2.06-.94 2.06-2.06.94zm-11 1L8.5 8.5l.94-2.06 2.06-.94-2.06-.94L8.5 2.5l-.94 2.06-2.06.94zm10 10l.94 2.06.94-2.06 2.06-.94-2.06-.94-.94-2.06-.94 2.06-2.06.94z\"/><path d=\"M17.41 7.96l-1.37-1.37c-.4-.4-.92-.59-1.43-.59-.52 0-1.04.2-1.43.59L10.3 9.45l-7.72 7.72c-.78.78-.78 2.05 0 2.83L4 21.41c.39.39.9.59 1.41.59.51 0 1.02-.2 1.41-.59l7.78-7.78 2.81-2.81c.8-.78.8-2.07 0-2.86zM5.41 20L4 18.59l7.72-7.72 1.47 1.35L5.41 20z\"/>\n",
              "  </svg>\n",
              "      </button>\n",
              "      \n",
              "  <style>\n",
              "    .colab-df-container {\n",
              "      display:flex;\n",
              "      flex-wrap:wrap;\n",
              "      gap: 12px;\n",
              "    }\n",
              "\n",
              "    .colab-df-convert {\n",
              "      background-color: #E8F0FE;\n",
              "      border: none;\n",
              "      border-radius: 50%;\n",
              "      cursor: pointer;\n",
              "      display: none;\n",
              "      fill: #1967D2;\n",
              "      height: 32px;\n",
              "      padding: 0 0 0 0;\n",
              "      width: 32px;\n",
              "    }\n",
              "\n",
              "    .colab-df-convert:hover {\n",
              "      background-color: #E2EBFA;\n",
              "      box-shadow: 0px 1px 2px rgba(60, 64, 67, 0.3), 0px 1px 3px 1px rgba(60, 64, 67, 0.15);\n",
              "      fill: #174EA6;\n",
              "    }\n",
              "\n",
              "    [theme=dark] .colab-df-convert {\n",
              "      background-color: #3B4455;\n",
              "      fill: #D2E3FC;\n",
              "    }\n",
              "\n",
              "    [theme=dark] .colab-df-convert:hover {\n",
              "      background-color: #434B5C;\n",
              "      box-shadow: 0px 1px 3px 1px rgba(0, 0, 0, 0.15);\n",
              "      filter: drop-shadow(0px 1px 2px rgba(0, 0, 0, 0.3));\n",
              "      fill: #FFFFFF;\n",
              "    }\n",
              "  </style>\n",
              "\n",
              "      <script>\n",
              "        const buttonEl =\n",
              "          document.querySelector('#df-562aef2f-1e1c-495b-8d43-d8b613dcc491 button.colab-df-convert');\n",
              "        buttonEl.style.display =\n",
              "          google.colab.kernel.accessAllowed ? 'block' : 'none';\n",
              "\n",
              "        async function convertToInteractive(key) {\n",
              "          const element = document.querySelector('#df-562aef2f-1e1c-495b-8d43-d8b613dcc491');\n",
              "          const dataTable =\n",
              "            await google.colab.kernel.invokeFunction('convertToInteractive',\n",
              "                                                     [key], {});\n",
              "          if (!dataTable) return;\n",
              "\n",
              "          const docLinkHtml = 'Like what you see? Visit the ' +\n",
              "            '<a target=\"_blank\" href=https://colab.research.google.com/notebooks/data_table.ipynb>data table notebook</a>'\n",
              "            + ' to learn more about interactive tables.';\n",
              "          element.innerHTML = '';\n",
              "          dataTable['output_type'] = 'display_data';\n",
              "          await google.colab.output.renderOutput(dataTable, element);\n",
              "          const docLink = document.createElement('div');\n",
              "          docLink.innerHTML = docLinkHtml;\n",
              "          element.appendChild(docLink);\n",
              "        }\n",
              "      </script>\n",
              "    </div>\n",
              "  </div>\n",
              "  "
            ],
            "text/plain": [
              "                      Model  Test accuracy\n",
              "0             Decision Tree       0.783860\n",
              "1          SVM Linear : 0.5       0.727406\n",
              "2          SVM Linear : 0.1       0.725438\n",
              "3            SVM Linear : 1       0.720580\n",
              "4        SVM Polynomial : 2       0.663205\n",
              "5        SVM Polynomial : 3       0.664084\n",
              "6        SVM Polynomial : 4       0.658472\n",
              "7  SVM Rbf with gamma: 0.01       0.724768\n",
              "8   SVM Rbf with gamma: 0.1       0.754795\n",
              "9     SVM Rbf with gamma: 1       0.755423"
            ]
          },
          "metadata": {},
          "execution_count": 88
        }
      ]
    },
    {
      "cell_type": "markdown",
      "source": [
        "When it comes to SVM, Linear model with C = 0.5 looks to be doing the best. "
      ],
      "metadata": {
        "id": "8CzvDoGp7vwY"
      }
    },
    {
      "cell_type": "markdown",
      "source": [
        "###Logistic Regression"
      ],
      "metadata": {
        "id": "D-54FUlO77Rk"
      }
    },
    {
      "cell_type": "markdown",
      "source": [
        "For Logistic Regression we will search through different solvers, C value and use l2 penalty."
      ],
      "metadata": {
        "id": "gBOgg6TX8g0w"
      }
    },
    {
      "cell_type": "code",
      "source": [
        "C_Values = [1,10,0.1]\n",
        "for i in range(len(C_Values)):\n",
        "  Log_reg = LogisticRegression(penalty='l2',solver='lbfgs')\n",
        "  Log_reg.fit(X_train,y_train)\n",
        "  pred = Log_reg.predict(X_test)\n",
        "  acc = accuracy_score(pred,y_test)\n",
        "  Model_results = Model_results.append({\"Model\": \"L2 Logistic regression  with C: {}\".format(C_Values[i]), \"Test accuracy\":acc},ignore_index=True)"
      ],
      "metadata": {
        "id": "RQwgoKe9A85q"
      },
      "execution_count": null,
      "outputs": []
    },
    {
      "cell_type": "code",
      "source": [
        "Model_results"
      ],
      "metadata": {
        "colab": {
          "base_uri": "https://localhost:8080/",
          "height": 457
        },
        "id": "FjmhnMqaFhSm",
        "outputId": "22490325-bf79-4309-be8b-2ac8ebff99fa"
      },
      "execution_count": 90,
      "outputs": [
        {
          "output_type": "execute_result",
          "data": {
            "text/html": [
              "\n",
              "  <div id=\"df-109f3766-6d9e-43c3-916c-c345540e034f\">\n",
              "    <div class=\"colab-df-container\">\n",
              "      <div>\n",
              "<style scoped>\n",
              "    .dataframe tbody tr th:only-of-type {\n",
              "        vertical-align: middle;\n",
              "    }\n",
              "\n",
              "    .dataframe tbody tr th {\n",
              "        vertical-align: top;\n",
              "    }\n",
              "\n",
              "    .dataframe thead th {\n",
              "        text-align: right;\n",
              "    }\n",
              "</style>\n",
              "<table border=\"1\" class=\"dataframe\">\n",
              "  <thead>\n",
              "    <tr style=\"text-align: right;\">\n",
              "      <th></th>\n",
              "      <th>Model</th>\n",
              "      <th>Test accuracy</th>\n",
              "    </tr>\n",
              "  </thead>\n",
              "  <tbody>\n",
              "    <tr>\n",
              "      <th>0</th>\n",
              "      <td>Decision Tree</td>\n",
              "      <td>0.783860</td>\n",
              "    </tr>\n",
              "    <tr>\n",
              "      <th>1</th>\n",
              "      <td>SVM Linear : 0.5</td>\n",
              "      <td>0.727406</td>\n",
              "    </tr>\n",
              "    <tr>\n",
              "      <th>2</th>\n",
              "      <td>SVM Linear : 0.1</td>\n",
              "      <td>0.725438</td>\n",
              "    </tr>\n",
              "    <tr>\n",
              "      <th>3</th>\n",
              "      <td>SVM Linear : 1</td>\n",
              "      <td>0.720580</td>\n",
              "    </tr>\n",
              "    <tr>\n",
              "      <th>4</th>\n",
              "      <td>SVM Polynomial : 2</td>\n",
              "      <td>0.663205</td>\n",
              "    </tr>\n",
              "    <tr>\n",
              "      <th>5</th>\n",
              "      <td>SVM Polynomial : 3</td>\n",
              "      <td>0.664084</td>\n",
              "    </tr>\n",
              "    <tr>\n",
              "      <th>6</th>\n",
              "      <td>SVM Polynomial : 4</td>\n",
              "      <td>0.658472</td>\n",
              "    </tr>\n",
              "    <tr>\n",
              "      <th>7</th>\n",
              "      <td>SVM Rbf with gamma: 0.01</td>\n",
              "      <td>0.724768</td>\n",
              "    </tr>\n",
              "    <tr>\n",
              "      <th>8</th>\n",
              "      <td>SVM Rbf with gamma: 0.1</td>\n",
              "      <td>0.754795</td>\n",
              "    </tr>\n",
              "    <tr>\n",
              "      <th>9</th>\n",
              "      <td>SVM Rbf with gamma: 1</td>\n",
              "      <td>0.755423</td>\n",
              "    </tr>\n",
              "    <tr>\n",
              "      <th>10</th>\n",
              "      <td>L2 Logistic regression  with C: 1</td>\n",
              "      <td>0.719658</td>\n",
              "    </tr>\n",
              "    <tr>\n",
              "      <th>11</th>\n",
              "      <td>L2 Logistic regression  with C: 10</td>\n",
              "      <td>0.719658</td>\n",
              "    </tr>\n",
              "    <tr>\n",
              "      <th>12</th>\n",
              "      <td>L2 Logistic regression  with C: 0.1</td>\n",
              "      <td>0.719658</td>\n",
              "    </tr>\n",
              "  </tbody>\n",
              "</table>\n",
              "</div>\n",
              "      <button class=\"colab-df-convert\" onclick=\"convertToInteractive('df-109f3766-6d9e-43c3-916c-c345540e034f')\"\n",
              "              title=\"Convert this dataframe to an interactive table.\"\n",
              "              style=\"display:none;\">\n",
              "        \n",
              "  <svg xmlns=\"http://www.w3.org/2000/svg\" height=\"24px\"viewBox=\"0 0 24 24\"\n",
              "       width=\"24px\">\n",
              "    <path d=\"M0 0h24v24H0V0z\" fill=\"none\"/>\n",
              "    <path d=\"M18.56 5.44l.94 2.06.94-2.06 2.06-.94-2.06-.94-.94-2.06-.94 2.06-2.06.94zm-11 1L8.5 8.5l.94-2.06 2.06-.94-2.06-.94L8.5 2.5l-.94 2.06-2.06.94zm10 10l.94 2.06.94-2.06 2.06-.94-2.06-.94-.94-2.06-.94 2.06-2.06.94z\"/><path d=\"M17.41 7.96l-1.37-1.37c-.4-.4-.92-.59-1.43-.59-.52 0-1.04.2-1.43.59L10.3 9.45l-7.72 7.72c-.78.78-.78 2.05 0 2.83L4 21.41c.39.39.9.59 1.41.59.51 0 1.02-.2 1.41-.59l7.78-7.78 2.81-2.81c.8-.78.8-2.07 0-2.86zM5.41 20L4 18.59l7.72-7.72 1.47 1.35L5.41 20z\"/>\n",
              "  </svg>\n",
              "      </button>\n",
              "      \n",
              "  <style>\n",
              "    .colab-df-container {\n",
              "      display:flex;\n",
              "      flex-wrap:wrap;\n",
              "      gap: 12px;\n",
              "    }\n",
              "\n",
              "    .colab-df-convert {\n",
              "      background-color: #E8F0FE;\n",
              "      border: none;\n",
              "      border-radius: 50%;\n",
              "      cursor: pointer;\n",
              "      display: none;\n",
              "      fill: #1967D2;\n",
              "      height: 32px;\n",
              "      padding: 0 0 0 0;\n",
              "      width: 32px;\n",
              "    }\n",
              "\n",
              "    .colab-df-convert:hover {\n",
              "      background-color: #E2EBFA;\n",
              "      box-shadow: 0px 1px 2px rgba(60, 64, 67, 0.3), 0px 1px 3px 1px rgba(60, 64, 67, 0.15);\n",
              "      fill: #174EA6;\n",
              "    }\n",
              "\n",
              "    [theme=dark] .colab-df-convert {\n",
              "      background-color: #3B4455;\n",
              "      fill: #D2E3FC;\n",
              "    }\n",
              "\n",
              "    [theme=dark] .colab-df-convert:hover {\n",
              "      background-color: #434B5C;\n",
              "      box-shadow: 0px 1px 3px 1px rgba(0, 0, 0, 0.15);\n",
              "      filter: drop-shadow(0px 1px 2px rgba(0, 0, 0, 0.3));\n",
              "      fill: #FFFFFF;\n",
              "    }\n",
              "  </style>\n",
              "\n",
              "      <script>\n",
              "        const buttonEl =\n",
              "          document.querySelector('#df-109f3766-6d9e-43c3-916c-c345540e034f button.colab-df-convert');\n",
              "        buttonEl.style.display =\n",
              "          google.colab.kernel.accessAllowed ? 'block' : 'none';\n",
              "\n",
              "        async function convertToInteractive(key) {\n",
              "          const element = document.querySelector('#df-109f3766-6d9e-43c3-916c-c345540e034f');\n",
              "          const dataTable =\n",
              "            await google.colab.kernel.invokeFunction('convertToInteractive',\n",
              "                                                     [key], {});\n",
              "          if (!dataTable) return;\n",
              "\n",
              "          const docLinkHtml = 'Like what you see? Visit the ' +\n",
              "            '<a target=\"_blank\" href=https://colab.research.google.com/notebooks/data_table.ipynb>data table notebook</a>'\n",
              "            + ' to learn more about interactive tables.';\n",
              "          element.innerHTML = '';\n",
              "          dataTable['output_type'] = 'display_data';\n",
              "          await google.colab.output.renderOutput(dataTable, element);\n",
              "          const docLink = document.createElement('div');\n",
              "          docLink.innerHTML = docLinkHtml;\n",
              "          element.appendChild(docLink);\n",
              "        }\n",
              "      </script>\n",
              "    </div>\n",
              "  </div>\n",
              "  "
            ],
            "text/plain": [
              "                                  Model  Test accuracy\n",
              "0                         Decision Tree       0.783860\n",
              "1                      SVM Linear : 0.5       0.727406\n",
              "2                      SVM Linear : 0.1       0.725438\n",
              "3                        SVM Linear : 1       0.720580\n",
              "4                    SVM Polynomial : 2       0.663205\n",
              "5                    SVM Polynomial : 3       0.664084\n",
              "6                    SVM Polynomial : 4       0.658472\n",
              "7              SVM Rbf with gamma: 0.01       0.724768\n",
              "8               SVM Rbf with gamma: 0.1       0.754795\n",
              "9                 SVM Rbf with gamma: 1       0.755423\n",
              "10    L2 Logistic regression  with C: 1       0.719658\n",
              "11   L2 Logistic regression  with C: 10       0.719658\n",
              "12  L2 Logistic regression  with C: 0.1       0.719658"
            ]
          },
          "metadata": {},
          "execution_count": 90
        }
      ]
    },
    {
      "cell_type": "markdown",
      "source": [
        "###Naive Bayes "
      ],
      "metadata": {
        "id": "uc3i2gVIIlna"
      }
    },
    {
      "cell_type": "code",
      "source": [
        "#Intializing the Model\n",
        "gnb = GaussianNB()\n",
        "#Fitting the model\n",
        "gnb.fit(X_train,y_train)\n",
        "#Predicting\n",
        "pred = gnb.predict(X_test)\n",
        "#COmputing accuracy\n",
        "acc = accuracy_score(pred,y_test)\n",
        "#Appending results in the table\n",
        "Model_results = Model_results.append({\"Model\": \"Gaussian NB\", \"Test accuracy\":acc},ignore_index=True)"
      ],
      "metadata": {
        "id": "rNht0rbtmtB2"
      },
      "execution_count": 91,
      "outputs": []
    },
    {
      "cell_type": "code",
      "source": [
        "Model_results"
      ],
      "metadata": {
        "colab": {
          "base_uri": "https://localhost:8080/",
          "height": 488
        },
        "id": "DF5agXTZWijZ",
        "outputId": "940429a4-ac89-4e0b-81d2-c7e96892c03a"
      },
      "execution_count": 92,
      "outputs": [
        {
          "output_type": "execute_result",
          "data": {
            "text/html": [
              "\n",
              "  <div id=\"df-90abf561-ba83-497a-b777-c53d25b75c3e\">\n",
              "    <div class=\"colab-df-container\">\n",
              "      <div>\n",
              "<style scoped>\n",
              "    .dataframe tbody tr th:only-of-type {\n",
              "        vertical-align: middle;\n",
              "    }\n",
              "\n",
              "    .dataframe tbody tr th {\n",
              "        vertical-align: top;\n",
              "    }\n",
              "\n",
              "    .dataframe thead th {\n",
              "        text-align: right;\n",
              "    }\n",
              "</style>\n",
              "<table border=\"1\" class=\"dataframe\">\n",
              "  <thead>\n",
              "    <tr style=\"text-align: right;\">\n",
              "      <th></th>\n",
              "      <th>Model</th>\n",
              "      <th>Test accuracy</th>\n",
              "    </tr>\n",
              "  </thead>\n",
              "  <tbody>\n",
              "    <tr>\n",
              "      <th>0</th>\n",
              "      <td>Decision Tree</td>\n",
              "      <td>0.783860</td>\n",
              "    </tr>\n",
              "    <tr>\n",
              "      <th>1</th>\n",
              "      <td>SVM Linear : 0.5</td>\n",
              "      <td>0.727406</td>\n",
              "    </tr>\n",
              "    <tr>\n",
              "      <th>2</th>\n",
              "      <td>SVM Linear : 0.1</td>\n",
              "      <td>0.725438</td>\n",
              "    </tr>\n",
              "    <tr>\n",
              "      <th>3</th>\n",
              "      <td>SVM Linear : 1</td>\n",
              "      <td>0.720580</td>\n",
              "    </tr>\n",
              "    <tr>\n",
              "      <th>4</th>\n",
              "      <td>SVM Polynomial : 2</td>\n",
              "      <td>0.663205</td>\n",
              "    </tr>\n",
              "    <tr>\n",
              "      <th>5</th>\n",
              "      <td>SVM Polynomial : 3</td>\n",
              "      <td>0.664084</td>\n",
              "    </tr>\n",
              "    <tr>\n",
              "      <th>6</th>\n",
              "      <td>SVM Polynomial : 4</td>\n",
              "      <td>0.658472</td>\n",
              "    </tr>\n",
              "    <tr>\n",
              "      <th>7</th>\n",
              "      <td>SVM Rbf with gamma: 0.01</td>\n",
              "      <td>0.724768</td>\n",
              "    </tr>\n",
              "    <tr>\n",
              "      <th>8</th>\n",
              "      <td>SVM Rbf with gamma: 0.1</td>\n",
              "      <td>0.754795</td>\n",
              "    </tr>\n",
              "    <tr>\n",
              "      <th>9</th>\n",
              "      <td>SVM Rbf with gamma: 1</td>\n",
              "      <td>0.755423</td>\n",
              "    </tr>\n",
              "    <tr>\n",
              "      <th>10</th>\n",
              "      <td>L2 Logistic regression  with C: 1</td>\n",
              "      <td>0.719658</td>\n",
              "    </tr>\n",
              "    <tr>\n",
              "      <th>11</th>\n",
              "      <td>L2 Logistic regression  with C: 10</td>\n",
              "      <td>0.719658</td>\n",
              "    </tr>\n",
              "    <tr>\n",
              "      <th>12</th>\n",
              "      <td>L2 Logistic regression  with C: 0.1</td>\n",
              "      <td>0.719658</td>\n",
              "    </tr>\n",
              "    <tr>\n",
              "      <th>13</th>\n",
              "      <td>Gaussian NB</td>\n",
              "      <td>0.481029</td>\n",
              "    </tr>\n",
              "  </tbody>\n",
              "</table>\n",
              "</div>\n",
              "      <button class=\"colab-df-convert\" onclick=\"convertToInteractive('df-90abf561-ba83-497a-b777-c53d25b75c3e')\"\n",
              "              title=\"Convert this dataframe to an interactive table.\"\n",
              "              style=\"display:none;\">\n",
              "        \n",
              "  <svg xmlns=\"http://www.w3.org/2000/svg\" height=\"24px\"viewBox=\"0 0 24 24\"\n",
              "       width=\"24px\">\n",
              "    <path d=\"M0 0h24v24H0V0z\" fill=\"none\"/>\n",
              "    <path d=\"M18.56 5.44l.94 2.06.94-2.06 2.06-.94-2.06-.94-.94-2.06-.94 2.06-2.06.94zm-11 1L8.5 8.5l.94-2.06 2.06-.94-2.06-.94L8.5 2.5l-.94 2.06-2.06.94zm10 10l.94 2.06.94-2.06 2.06-.94-2.06-.94-.94-2.06-.94 2.06-2.06.94z\"/><path d=\"M17.41 7.96l-1.37-1.37c-.4-.4-.92-.59-1.43-.59-.52 0-1.04.2-1.43.59L10.3 9.45l-7.72 7.72c-.78.78-.78 2.05 0 2.83L4 21.41c.39.39.9.59 1.41.59.51 0 1.02-.2 1.41-.59l7.78-7.78 2.81-2.81c.8-.78.8-2.07 0-2.86zM5.41 20L4 18.59l7.72-7.72 1.47 1.35L5.41 20z\"/>\n",
              "  </svg>\n",
              "      </button>\n",
              "      \n",
              "  <style>\n",
              "    .colab-df-container {\n",
              "      display:flex;\n",
              "      flex-wrap:wrap;\n",
              "      gap: 12px;\n",
              "    }\n",
              "\n",
              "    .colab-df-convert {\n",
              "      background-color: #E8F0FE;\n",
              "      border: none;\n",
              "      border-radius: 50%;\n",
              "      cursor: pointer;\n",
              "      display: none;\n",
              "      fill: #1967D2;\n",
              "      height: 32px;\n",
              "      padding: 0 0 0 0;\n",
              "      width: 32px;\n",
              "    }\n",
              "\n",
              "    .colab-df-convert:hover {\n",
              "      background-color: #E2EBFA;\n",
              "      box-shadow: 0px 1px 2px rgba(60, 64, 67, 0.3), 0px 1px 3px 1px rgba(60, 64, 67, 0.15);\n",
              "      fill: #174EA6;\n",
              "    }\n",
              "\n",
              "    [theme=dark] .colab-df-convert {\n",
              "      background-color: #3B4455;\n",
              "      fill: #D2E3FC;\n",
              "    }\n",
              "\n",
              "    [theme=dark] .colab-df-convert:hover {\n",
              "      background-color: #434B5C;\n",
              "      box-shadow: 0px 1px 3px 1px rgba(0, 0, 0, 0.15);\n",
              "      filter: drop-shadow(0px 1px 2px rgba(0, 0, 0, 0.3));\n",
              "      fill: #FFFFFF;\n",
              "    }\n",
              "  </style>\n",
              "\n",
              "      <script>\n",
              "        const buttonEl =\n",
              "          document.querySelector('#df-90abf561-ba83-497a-b777-c53d25b75c3e button.colab-df-convert');\n",
              "        buttonEl.style.display =\n",
              "          google.colab.kernel.accessAllowed ? 'block' : 'none';\n",
              "\n",
              "        async function convertToInteractive(key) {\n",
              "          const element = document.querySelector('#df-90abf561-ba83-497a-b777-c53d25b75c3e');\n",
              "          const dataTable =\n",
              "            await google.colab.kernel.invokeFunction('convertToInteractive',\n",
              "                                                     [key], {});\n",
              "          if (!dataTable) return;\n",
              "\n",
              "          const docLinkHtml = 'Like what you see? Visit the ' +\n",
              "            '<a target=\"_blank\" href=https://colab.research.google.com/notebooks/data_table.ipynb>data table notebook</a>'\n",
              "            + ' to learn more about interactive tables.';\n",
              "          element.innerHTML = '';\n",
              "          dataTable['output_type'] = 'display_data';\n",
              "          await google.colab.output.renderOutput(dataTable, element);\n",
              "          const docLink = document.createElement('div');\n",
              "          docLink.innerHTML = docLinkHtml;\n",
              "          element.appendChild(docLink);\n",
              "        }\n",
              "      </script>\n",
              "    </div>\n",
              "  </div>\n",
              "  "
            ],
            "text/plain": [
              "                                  Model  Test accuracy\n",
              "0                         Decision Tree       0.783860\n",
              "1                      SVM Linear : 0.5       0.727406\n",
              "2                      SVM Linear : 0.1       0.725438\n",
              "3                        SVM Linear : 1       0.720580\n",
              "4                    SVM Polynomial : 2       0.663205\n",
              "5                    SVM Polynomial : 3       0.664084\n",
              "6                    SVM Polynomial : 4       0.658472\n",
              "7              SVM Rbf with gamma: 0.01       0.724768\n",
              "8               SVM Rbf with gamma: 0.1       0.754795\n",
              "9                 SVM Rbf with gamma: 1       0.755423\n",
              "10    L2 Logistic regression  with C: 1       0.719658\n",
              "11   L2 Logistic regression  with C: 10       0.719658\n",
              "12  L2 Logistic regression  with C: 0.1       0.719658\n",
              "13                          Gaussian NB       0.481029"
            ]
          },
          "metadata": {},
          "execution_count": 92
        }
      ]
    },
    {
      "cell_type": "markdown",
      "source": [
        "As observed Gaussian NB should not be used in this case as it has very low accuracy."
      ],
      "metadata": {
        "id": "WfRrBTCyWmsr"
      }
    },
    {
      "cell_type": "markdown",
      "source": [
        "###Bagging: Random Forest "
      ],
      "metadata": {
        "id": "ejI8fsHBWwo7"
      }
    },
    {
      "cell_type": "code",
      "source": [
        "max_depth=[2, 8, 16]\n",
        "n_estimators = [64, 128, 256]\n",
        "param_grid = dict(max_depth=max_depth, n_estimators=n_estimators)\n",
        "\n",
        "# Build the grid search\n",
        "dfrst = RandomForestClassifier(n_estimators=n_estimators, max_depth=max_depth)\n",
        "grid = GridSearchCV(estimator=dfrst, param_grid=param_grid,cv=5)\n",
        "grid_results = grid.fit(X_train, y_train)\n",
        "\n",
        "# Summarize the results in a readable format\n",
        "print(\"Best: {0}, using {1}\".format(grid_results.cv_results_['mean_test_score'], grid_results.best_params_))\n",
        "results_df = pd.DataFrame(grid_results.cv_results_)\n",
        "results_df"
      ],
      "metadata": {
        "colab": {
          "base_uri": "https://localhost:8080/",
          "height": 899
        },
        "id": "W8cVe9SUvZWH",
        "outputId": "feecda61-ddd7-4cec-83ff-de649998fd27"
      },
      "execution_count": 93,
      "outputs": [
        {
          "output_type": "stream",
          "name": "stdout",
          "text": [
            "Best: [0.67697256 0.67740183 0.67740183 0.77059431 0.77165177 0.77165181\n",
            " 0.81700734 0.8169131  0.81780305], using {'max_depth': 16, 'n_estimators': 256}\n"
          ]
        },
        {
          "output_type": "execute_result",
          "data": {
            "text/html": [
              "\n",
              "  <div id=\"df-4ce32976-9491-4c08-9659-92f5bc26c190\">\n",
              "    <div class=\"colab-df-container\">\n",
              "      <div>\n",
              "<style scoped>\n",
              "    .dataframe tbody tr th:only-of-type {\n",
              "        vertical-align: middle;\n",
              "    }\n",
              "\n",
              "    .dataframe tbody tr th {\n",
              "        vertical-align: top;\n",
              "    }\n",
              "\n",
              "    .dataframe thead th {\n",
              "        text-align: right;\n",
              "    }\n",
              "</style>\n",
              "<table border=\"1\" class=\"dataframe\">\n",
              "  <thead>\n",
              "    <tr style=\"text-align: right;\">\n",
              "      <th></th>\n",
              "      <th>mean_fit_time</th>\n",
              "      <th>std_fit_time</th>\n",
              "      <th>mean_score_time</th>\n",
              "      <th>std_score_time</th>\n",
              "      <th>param_max_depth</th>\n",
              "      <th>param_n_estimators</th>\n",
              "      <th>params</th>\n",
              "      <th>split0_test_score</th>\n",
              "      <th>split1_test_score</th>\n",
              "      <th>split2_test_score</th>\n",
              "      <th>split3_test_score</th>\n",
              "      <th>split4_test_score</th>\n",
              "      <th>mean_test_score</th>\n",
              "      <th>std_test_score</th>\n",
              "      <th>rank_test_score</th>\n",
              "    </tr>\n",
              "  </thead>\n",
              "  <tbody>\n",
              "    <tr>\n",
              "      <th>0</th>\n",
              "      <td>1.381520</td>\n",
              "      <td>0.051913</td>\n",
              "      <td>0.073003</td>\n",
              "      <td>0.000360</td>\n",
              "      <td>2</td>\n",
              "      <td>64</td>\n",
              "      <td>{'max_depth': 2, 'n_estimators': 64}</td>\n",
              "      <td>0.675287</td>\n",
              "      <td>0.675653</td>\n",
              "      <td>0.680348</td>\n",
              "      <td>0.675636</td>\n",
              "      <td>0.677939</td>\n",
              "      <td>0.676973</td>\n",
              "      <td>0.001934</td>\n",
              "      <td>9</td>\n",
              "    </tr>\n",
              "    <tr>\n",
              "      <th>1</th>\n",
              "      <td>2.702282</td>\n",
              "      <td>0.026807</td>\n",
              "      <td>0.143156</td>\n",
              "      <td>0.002421</td>\n",
              "      <td>2</td>\n",
              "      <td>128</td>\n",
              "      <td>{'max_depth': 2, 'n_estimators': 128}</td>\n",
              "      <td>0.675496</td>\n",
              "      <td>0.675915</td>\n",
              "      <td>0.679981</td>\n",
              "      <td>0.677730</td>\n",
              "      <td>0.677887</td>\n",
              "      <td>0.677402</td>\n",
              "      <td>0.001602</td>\n",
              "      <td>8</td>\n",
              "    </tr>\n",
              "    <tr>\n",
              "      <th>2</th>\n",
              "      <td>5.376943</td>\n",
              "      <td>0.040858</td>\n",
              "      <td>0.281338</td>\n",
              "      <td>0.005236</td>\n",
              "      <td>2</td>\n",
              "      <td>256</td>\n",
              "      <td>{'max_depth': 2, 'n_estimators': 256}</td>\n",
              "      <td>0.675705</td>\n",
              "      <td>0.675548</td>\n",
              "      <td>0.679615</td>\n",
              "      <td>0.677887</td>\n",
              "      <td>0.678254</td>\n",
              "      <td>0.677402</td>\n",
              "      <td>0.001560</td>\n",
              "      <td>7</td>\n",
              "    </tr>\n",
              "    <tr>\n",
              "      <th>3</th>\n",
              "      <td>3.126377</td>\n",
              "      <td>0.048509</td>\n",
              "      <td>0.121690</td>\n",
              "      <td>0.002565</td>\n",
              "      <td>8</td>\n",
              "      <td>64</td>\n",
              "      <td>{'max_depth': 8, 'n_estimators': 64}</td>\n",
              "      <td>0.773177</td>\n",
              "      <td>0.764330</td>\n",
              "      <td>0.777144</td>\n",
              "      <td>0.773950</td>\n",
              "      <td>0.764370</td>\n",
              "      <td>0.770594</td>\n",
              "      <td>0.005269</td>\n",
              "      <td>6</td>\n",
              "    </tr>\n",
              "    <tr>\n",
              "      <th>4</th>\n",
              "      <td>6.194833</td>\n",
              "      <td>0.058577</td>\n",
              "      <td>0.236035</td>\n",
              "      <td>0.003875</td>\n",
              "      <td>8</td>\n",
              "      <td>128</td>\n",
              "      <td>{'max_depth': 8, 'n_estimators': 128}</td>\n",
              "      <td>0.771711</td>\n",
              "      <td>0.767523</td>\n",
              "      <td>0.776830</td>\n",
              "      <td>0.774788</td>\n",
              "      <td>0.767407</td>\n",
              "      <td>0.771652</td>\n",
              "      <td>0.003787</td>\n",
              "      <td>5</td>\n",
              "    </tr>\n",
              "    <tr>\n",
              "      <th>5</th>\n",
              "      <td>12.454291</td>\n",
              "      <td>0.076485</td>\n",
              "      <td>0.463324</td>\n",
              "      <td>0.004585</td>\n",
              "      <td>8</td>\n",
              "      <td>256</td>\n",
              "      <td>{'max_depth': 8, 'n_estimators': 256}</td>\n",
              "      <td>0.769931</td>\n",
              "      <td>0.765534</td>\n",
              "      <td>0.777667</td>\n",
              "      <td>0.776830</td>\n",
              "      <td>0.768297</td>\n",
              "      <td>0.771652</td>\n",
              "      <td>0.004788</td>\n",
              "      <td>4</td>\n",
              "    </tr>\n",
              "    <tr>\n",
              "      <th>6</th>\n",
              "      <td>5.076640</td>\n",
              "      <td>0.030125</td>\n",
              "      <td>0.227657</td>\n",
              "      <td>0.003381</td>\n",
              "      <td>16</td>\n",
              "      <td>64</td>\n",
              "      <td>{'max_depth': 16, 'n_estimators': 64}</td>\n",
              "      <td>0.814113</td>\n",
              "      <td>0.814846</td>\n",
              "      <td>0.823317</td>\n",
              "      <td>0.821432</td>\n",
              "      <td>0.811329</td>\n",
              "      <td>0.817007</td>\n",
              "      <td>0.004576</td>\n",
              "      <td>2</td>\n",
              "    </tr>\n",
              "    <tr>\n",
              "      <th>7</th>\n",
              "      <td>10.149092</td>\n",
              "      <td>0.043781</td>\n",
              "      <td>0.453275</td>\n",
              "      <td>0.005831</td>\n",
              "      <td>16</td>\n",
              "      <td>128</td>\n",
              "      <td>{'max_depth': 16, 'n_estimators': 128}</td>\n",
              "      <td>0.814741</td>\n",
              "      <td>0.814636</td>\n",
              "      <td>0.823736</td>\n",
              "      <td>0.819443</td>\n",
              "      <td>0.812009</td>\n",
              "      <td>0.816913</td>\n",
              "      <td>0.004169</td>\n",
              "      <td>3</td>\n",
              "    </tr>\n",
              "    <tr>\n",
              "      <th>8</th>\n",
              "      <td>20.339731</td>\n",
              "      <td>0.134943</td>\n",
              "      <td>0.897275</td>\n",
              "      <td>0.006055</td>\n",
              "      <td>16</td>\n",
              "      <td>256</td>\n",
              "      <td>{'max_depth': 16, 'n_estimators': 256}</td>\n",
              "      <td>0.816259</td>\n",
              "      <td>0.814793</td>\n",
              "      <td>0.824312</td>\n",
              "      <td>0.820542</td>\n",
              "      <td>0.813109</td>\n",
              "      <td>0.817803</td>\n",
              "      <td>0.004083</td>\n",
              "      <td>1</td>\n",
              "    </tr>\n",
              "  </tbody>\n",
              "</table>\n",
              "</div>\n",
              "      <button class=\"colab-df-convert\" onclick=\"convertToInteractive('df-4ce32976-9491-4c08-9659-92f5bc26c190')\"\n",
              "              title=\"Convert this dataframe to an interactive table.\"\n",
              "              style=\"display:none;\">\n",
              "        \n",
              "  <svg xmlns=\"http://www.w3.org/2000/svg\" height=\"24px\"viewBox=\"0 0 24 24\"\n",
              "       width=\"24px\">\n",
              "    <path d=\"M0 0h24v24H0V0z\" fill=\"none\"/>\n",
              "    <path d=\"M18.56 5.44l.94 2.06.94-2.06 2.06-.94-2.06-.94-.94-2.06-.94 2.06-2.06.94zm-11 1L8.5 8.5l.94-2.06 2.06-.94-2.06-.94L8.5 2.5l-.94 2.06-2.06.94zm10 10l.94 2.06.94-2.06 2.06-.94-2.06-.94-.94-2.06-.94 2.06-2.06.94z\"/><path d=\"M17.41 7.96l-1.37-1.37c-.4-.4-.92-.59-1.43-.59-.52 0-1.04.2-1.43.59L10.3 9.45l-7.72 7.72c-.78.78-.78 2.05 0 2.83L4 21.41c.39.39.9.59 1.41.59.51 0 1.02-.2 1.41-.59l7.78-7.78 2.81-2.81c.8-.78.8-2.07 0-2.86zM5.41 20L4 18.59l7.72-7.72 1.47 1.35L5.41 20z\"/>\n",
              "  </svg>\n",
              "      </button>\n",
              "      \n",
              "  <style>\n",
              "    .colab-df-container {\n",
              "      display:flex;\n",
              "      flex-wrap:wrap;\n",
              "      gap: 12px;\n",
              "    }\n",
              "\n",
              "    .colab-df-convert {\n",
              "      background-color: #E8F0FE;\n",
              "      border: none;\n",
              "      border-radius: 50%;\n",
              "      cursor: pointer;\n",
              "      display: none;\n",
              "      fill: #1967D2;\n",
              "      height: 32px;\n",
              "      padding: 0 0 0 0;\n",
              "      width: 32px;\n",
              "    }\n",
              "\n",
              "    .colab-df-convert:hover {\n",
              "      background-color: #E2EBFA;\n",
              "      box-shadow: 0px 1px 2px rgba(60, 64, 67, 0.3), 0px 1px 3px 1px rgba(60, 64, 67, 0.15);\n",
              "      fill: #174EA6;\n",
              "    }\n",
              "\n",
              "    [theme=dark] .colab-df-convert {\n",
              "      background-color: #3B4455;\n",
              "      fill: #D2E3FC;\n",
              "    }\n",
              "\n",
              "    [theme=dark] .colab-df-convert:hover {\n",
              "      background-color: #434B5C;\n",
              "      box-shadow: 0px 1px 3px 1px rgba(0, 0, 0, 0.15);\n",
              "      filter: drop-shadow(0px 1px 2px rgba(0, 0, 0, 0.3));\n",
              "      fill: #FFFFFF;\n",
              "    }\n",
              "  </style>\n",
              "\n",
              "      <script>\n",
              "        const buttonEl =\n",
              "          document.querySelector('#df-4ce32976-9491-4c08-9659-92f5bc26c190 button.colab-df-convert');\n",
              "        buttonEl.style.display =\n",
              "          google.colab.kernel.accessAllowed ? 'block' : 'none';\n",
              "\n",
              "        async function convertToInteractive(key) {\n",
              "          const element = document.querySelector('#df-4ce32976-9491-4c08-9659-92f5bc26c190');\n",
              "          const dataTable =\n",
              "            await google.colab.kernel.invokeFunction('convertToInteractive',\n",
              "                                                     [key], {});\n",
              "          if (!dataTable) return;\n",
              "\n",
              "          const docLinkHtml = 'Like what you see? Visit the ' +\n",
              "            '<a target=\"_blank\" href=https://colab.research.google.com/notebooks/data_table.ipynb>data table notebook</a>'\n",
              "            + ' to learn more about interactive tables.';\n",
              "          element.innerHTML = '';\n",
              "          dataTable['output_type'] = 'display_data';\n",
              "          await google.colab.output.renderOutput(dataTable, element);\n",
              "          const docLink = document.createElement('div');\n",
              "          docLink.innerHTML = docLinkHtml;\n",
              "          element.appendChild(docLink);\n",
              "        }\n",
              "      </script>\n",
              "    </div>\n",
              "  </div>\n",
              "  "
            ],
            "text/plain": [
              "   mean_fit_time  std_fit_time  ...  std_test_score  rank_test_score\n",
              "0       1.381520      0.051913  ...        0.001934                9\n",
              "1       2.702282      0.026807  ...        0.001602                8\n",
              "2       5.376943      0.040858  ...        0.001560                7\n",
              "3       3.126377      0.048509  ...        0.005269                6\n",
              "4       6.194833      0.058577  ...        0.003787                5\n",
              "5      12.454291      0.076485  ...        0.004788                4\n",
              "6       5.076640      0.030125  ...        0.004576                2\n",
              "7      10.149092      0.043781  ...        0.004169                3\n",
              "8      20.339731      0.134943  ...        0.004083                1\n",
              "\n",
              "[9 rows x 15 columns]"
            ]
          },
          "metadata": {},
          "execution_count": 93
        }
      ]
    },
    {
      "cell_type": "markdown",
      "source": [
        "From the data i can be observed the best optimal value of hyperparameters the search gives is:\n",
        "\n",
        "1.   max_depth: 16\n",
        "2.   n_estimators: 256\n",
        "\n"
      ],
      "metadata": {
        "id": "loDOWXE604zu"
      }
    },
    {
      "cell_type": "code",
      "source": [
        "random_forest_final = RandomForestClassifier(max_depth=16,n_estimators=256)\n",
        "random_forest_final.fit(X_train,y_train)\n",
        "pred = random_forest_final.predict(X_test)\n",
        "acc = accuracy_score(pred,y_test)\n",
        "Model_results = Model_results.append({\"Model\": \"Random Forest\", \"Test accuracy\":acc},ignore_index=True)\n"
      ],
      "metadata": {
        "id": "U9vl6m0504Wc"
      },
      "execution_count": 94,
      "outputs": []
    },
    {
      "cell_type": "code",
      "source": [
        "Model_results"
      ],
      "metadata": {
        "colab": {
          "base_uri": "https://localhost:8080/",
          "height": 520
        },
        "id": "io7eD0xI2A68",
        "outputId": "60d711a2-26c2-42d5-942d-c5cb29e2a04a"
      },
      "execution_count": 96,
      "outputs": [
        {
          "output_type": "execute_result",
          "data": {
            "text/html": [
              "\n",
              "  <div id=\"df-fb39fde1-2674-40cd-af9c-52032fd8e812\">\n",
              "    <div class=\"colab-df-container\">\n",
              "      <div>\n",
              "<style scoped>\n",
              "    .dataframe tbody tr th:only-of-type {\n",
              "        vertical-align: middle;\n",
              "    }\n",
              "\n",
              "    .dataframe tbody tr th {\n",
              "        vertical-align: top;\n",
              "    }\n",
              "\n",
              "    .dataframe thead th {\n",
              "        text-align: right;\n",
              "    }\n",
              "</style>\n",
              "<table border=\"1\" class=\"dataframe\">\n",
              "  <thead>\n",
              "    <tr style=\"text-align: right;\">\n",
              "      <th></th>\n",
              "      <th>Model</th>\n",
              "      <th>Test accuracy</th>\n",
              "    </tr>\n",
              "  </thead>\n",
              "  <tbody>\n",
              "    <tr>\n",
              "      <th>0</th>\n",
              "      <td>Decision Tree</td>\n",
              "      <td>0.783860</td>\n",
              "    </tr>\n",
              "    <tr>\n",
              "      <th>1</th>\n",
              "      <td>SVM Linear : 0.5</td>\n",
              "      <td>0.727406</td>\n",
              "    </tr>\n",
              "    <tr>\n",
              "      <th>2</th>\n",
              "      <td>SVM Linear : 0.1</td>\n",
              "      <td>0.725438</td>\n",
              "    </tr>\n",
              "    <tr>\n",
              "      <th>3</th>\n",
              "      <td>SVM Linear : 1</td>\n",
              "      <td>0.720580</td>\n",
              "    </tr>\n",
              "    <tr>\n",
              "      <th>4</th>\n",
              "      <td>SVM Polynomial : 2</td>\n",
              "      <td>0.663205</td>\n",
              "    </tr>\n",
              "    <tr>\n",
              "      <th>5</th>\n",
              "      <td>SVM Polynomial : 3</td>\n",
              "      <td>0.664084</td>\n",
              "    </tr>\n",
              "    <tr>\n",
              "      <th>6</th>\n",
              "      <td>SVM Polynomial : 4</td>\n",
              "      <td>0.658472</td>\n",
              "    </tr>\n",
              "    <tr>\n",
              "      <th>7</th>\n",
              "      <td>SVM Rbf with gamma: 0.01</td>\n",
              "      <td>0.724768</td>\n",
              "    </tr>\n",
              "    <tr>\n",
              "      <th>8</th>\n",
              "      <td>SVM Rbf with gamma: 0.1</td>\n",
              "      <td>0.754795</td>\n",
              "    </tr>\n",
              "    <tr>\n",
              "      <th>9</th>\n",
              "      <td>SVM Rbf with gamma: 1</td>\n",
              "      <td>0.755423</td>\n",
              "    </tr>\n",
              "    <tr>\n",
              "      <th>10</th>\n",
              "      <td>L2 Logistic regression  with C: 1</td>\n",
              "      <td>0.719658</td>\n",
              "    </tr>\n",
              "    <tr>\n",
              "      <th>11</th>\n",
              "      <td>L2 Logistic regression  with C: 10</td>\n",
              "      <td>0.719658</td>\n",
              "    </tr>\n",
              "    <tr>\n",
              "      <th>12</th>\n",
              "      <td>L2 Logistic regression  with C: 0.1</td>\n",
              "      <td>0.719658</td>\n",
              "    </tr>\n",
              "    <tr>\n",
              "      <th>13</th>\n",
              "      <td>Gaussian NB</td>\n",
              "      <td>0.481029</td>\n",
              "    </tr>\n",
              "    <tr>\n",
              "      <th>14</th>\n",
              "      <td>Random Forest</td>\n",
              "      <td>0.817740</td>\n",
              "    </tr>\n",
              "  </tbody>\n",
              "</table>\n",
              "</div>\n",
              "      <button class=\"colab-df-convert\" onclick=\"convertToInteractive('df-fb39fde1-2674-40cd-af9c-52032fd8e812')\"\n",
              "              title=\"Convert this dataframe to an interactive table.\"\n",
              "              style=\"display:none;\">\n",
              "        \n",
              "  <svg xmlns=\"http://www.w3.org/2000/svg\" height=\"24px\"viewBox=\"0 0 24 24\"\n",
              "       width=\"24px\">\n",
              "    <path d=\"M0 0h24v24H0V0z\" fill=\"none\"/>\n",
              "    <path d=\"M18.56 5.44l.94 2.06.94-2.06 2.06-.94-2.06-.94-.94-2.06-.94 2.06-2.06.94zm-11 1L8.5 8.5l.94-2.06 2.06-.94-2.06-.94L8.5 2.5l-.94 2.06-2.06.94zm10 10l.94 2.06.94-2.06 2.06-.94-2.06-.94-.94-2.06-.94 2.06-2.06.94z\"/><path d=\"M17.41 7.96l-1.37-1.37c-.4-.4-.92-.59-1.43-.59-.52 0-1.04.2-1.43.59L10.3 9.45l-7.72 7.72c-.78.78-.78 2.05 0 2.83L4 21.41c.39.39.9.59 1.41.59.51 0 1.02-.2 1.41-.59l7.78-7.78 2.81-2.81c.8-.78.8-2.07 0-2.86zM5.41 20L4 18.59l7.72-7.72 1.47 1.35L5.41 20z\"/>\n",
              "  </svg>\n",
              "      </button>\n",
              "      \n",
              "  <style>\n",
              "    .colab-df-container {\n",
              "      display:flex;\n",
              "      flex-wrap:wrap;\n",
              "      gap: 12px;\n",
              "    }\n",
              "\n",
              "    .colab-df-convert {\n",
              "      background-color: #E8F0FE;\n",
              "      border: none;\n",
              "      border-radius: 50%;\n",
              "      cursor: pointer;\n",
              "      display: none;\n",
              "      fill: #1967D2;\n",
              "      height: 32px;\n",
              "      padding: 0 0 0 0;\n",
              "      width: 32px;\n",
              "    }\n",
              "\n",
              "    .colab-df-convert:hover {\n",
              "      background-color: #E2EBFA;\n",
              "      box-shadow: 0px 1px 2px rgba(60, 64, 67, 0.3), 0px 1px 3px 1px rgba(60, 64, 67, 0.15);\n",
              "      fill: #174EA6;\n",
              "    }\n",
              "\n",
              "    [theme=dark] .colab-df-convert {\n",
              "      background-color: #3B4455;\n",
              "      fill: #D2E3FC;\n",
              "    }\n",
              "\n",
              "    [theme=dark] .colab-df-convert:hover {\n",
              "      background-color: #434B5C;\n",
              "      box-shadow: 0px 1px 3px 1px rgba(0, 0, 0, 0.15);\n",
              "      filter: drop-shadow(0px 1px 2px rgba(0, 0, 0, 0.3));\n",
              "      fill: #FFFFFF;\n",
              "    }\n",
              "  </style>\n",
              "\n",
              "      <script>\n",
              "        const buttonEl =\n",
              "          document.querySelector('#df-fb39fde1-2674-40cd-af9c-52032fd8e812 button.colab-df-convert');\n",
              "        buttonEl.style.display =\n",
              "          google.colab.kernel.accessAllowed ? 'block' : 'none';\n",
              "\n",
              "        async function convertToInteractive(key) {\n",
              "          const element = document.querySelector('#df-fb39fde1-2674-40cd-af9c-52032fd8e812');\n",
              "          const dataTable =\n",
              "            await google.colab.kernel.invokeFunction('convertToInteractive',\n",
              "                                                     [key], {});\n",
              "          if (!dataTable) return;\n",
              "\n",
              "          const docLinkHtml = 'Like what you see? Visit the ' +\n",
              "            '<a target=\"_blank\" href=https://colab.research.google.com/notebooks/data_table.ipynb>data table notebook</a>'\n",
              "            + ' to learn more about interactive tables.';\n",
              "          element.innerHTML = '';\n",
              "          dataTable['output_type'] = 'display_data';\n",
              "          await google.colab.output.renderOutput(dataTable, element);\n",
              "          const docLink = document.createElement('div');\n",
              "          docLink.innerHTML = docLinkHtml;\n",
              "          element.appendChild(docLink);\n",
              "        }\n",
              "      </script>\n",
              "    </div>\n",
              "  </div>\n",
              "  "
            ],
            "text/plain": [
              "                                  Model  Test accuracy\n",
              "0                         Decision Tree       0.783860\n",
              "1                      SVM Linear : 0.5       0.727406\n",
              "2                      SVM Linear : 0.1       0.725438\n",
              "3                        SVM Linear : 1       0.720580\n",
              "4                    SVM Polynomial : 2       0.663205\n",
              "5                    SVM Polynomial : 3       0.664084\n",
              "6                    SVM Polynomial : 4       0.658472\n",
              "7              SVM Rbf with gamma: 0.01       0.724768\n",
              "8               SVM Rbf with gamma: 0.1       0.754795\n",
              "9                 SVM Rbf with gamma: 1       0.755423\n",
              "10    L2 Logistic regression  with C: 1       0.719658\n",
              "11   L2 Logistic regression  with C: 10       0.719658\n",
              "12  L2 Logistic regression  with C: 0.1       0.719658\n",
              "13                          Gaussian NB       0.481029\n",
              "14                        Random Forest       0.817740"
            ]
          },
          "metadata": {},
          "execution_count": 96
        }
      ]
    },
    {
      "cell_type": "markdown",
      "source": [
        "The random forest model is one of the best performing model thus far. Let's see how XGBoost and Neural Networks work."
      ],
      "metadata": {
        "id": "W-vPiGX-2AP6"
      }
    },
    {
      "cell_type": "markdown",
      "source": [
        "###Boosting: XGBoost"
      ],
      "metadata": {
        "id": "dOgRAF-rvXOr"
      }
    },
    {
      "cell_type": "markdown",
      "source": [
        "Since XBBoost is know to be the champion of algorithms we will not hypertune it to find the best,rather we will us the base model."
      ],
      "metadata": {
        "id": "D7Fo1WnpETnq"
      }
    },
    {
      "cell_type": "code",
      "source": [
        "from xgboost import XGBClassifier\n",
        "xg_model = XGBClassifier()\n",
        "xg_model.fit(X_train,y_train)\n",
        "pred = xg_model.predict(X_test)\n",
        "acc = accuracy_score(pred,y_test)"
      ],
      "metadata": {
        "id": "r7ffZTyIvRT6"
      },
      "execution_count": 97,
      "outputs": []
    },
    {
      "cell_type": "code",
      "source": [
        "acc"
      ],
      "metadata": {
        "colab": {
          "base_uri": "https://localhost:8080/"
        },
        "id": "TV3lNHlFGp9d",
        "outputId": "15848cd4-be5d-4e60-87d0-6335d906aef6"
      },
      "execution_count": 98,
      "outputs": [
        {
          "output_type": "execute_result",
          "data": {
            "text/plain": [
              "0.7735153697964654"
            ]
          },
          "metadata": {},
          "execution_count": 98
        }
      ]
    },
    {
      "cell_type": "code",
      "source": [
        "max_depth=[2, 8, 16,32]\n",
        "n_estimators = [5,10,15,20]\n",
        "param_grid = dict(max_depth=max_depth, n_estimators=n_estimators)\n",
        "\n",
        "# Build the grid search\n",
        "xg_model = XGBClassifier(n_estimators=n_estimators, max_depth=max_depth)\n",
        "grid = GridSearchCV(estimator=xg_model, param_grid=param_grid,cv=2)\n",
        "grid_results = grid.fit(X_train, y_train)\n",
        "\n",
        "# Summarize the results in a readable format\n",
        "print(\"Best: {0}, using {1}\".format(grid_results.cv_results_['mean_test_score'], grid_results.best_params_))\n",
        "results_df = pd.DataFrame(grid_results.cv_results_)\n",
        "results_df"
      ],
      "metadata": {
        "colab": {
          "base_uri": "https://localhost:8080/",
          "height": 1000
        },
        "id": "eG10TNpqMKjJ",
        "outputId": "0279d803-8acf-4c5b-b9b1-ae88db526c85"
      },
      "execution_count": 99,
      "outputs": [
        {
          "output_type": "stream",
          "name": "stdout",
          "text": [
            "Best: [0.69760868 0.74803166 0.74557124 0.74558171 0.76835371 0.7703744\n",
            " 0.77808024 0.7794518  0.80636988 0.81233772 0.81624299 0.81826367\n",
            " 0.81184563 0.81779253 0.82050423 0.82336251], using {'max_depth': 32, 'n_estimators': 20}\n"
          ]
        },
        {
          "output_type": "execute_result",
          "data": {
            "text/html": [
              "\n",
              "  <div id=\"df-57092a0b-173a-4da4-ad84-d1b89950010b\">\n",
              "    <div class=\"colab-df-container\">\n",
              "      <div>\n",
              "<style scoped>\n",
              "    .dataframe tbody tr th:only-of-type {\n",
              "        vertical-align: middle;\n",
              "    }\n",
              "\n",
              "    .dataframe tbody tr th {\n",
              "        vertical-align: top;\n",
              "    }\n",
              "\n",
              "    .dataframe thead th {\n",
              "        text-align: right;\n",
              "    }\n",
              "</style>\n",
              "<table border=\"1\" class=\"dataframe\">\n",
              "  <thead>\n",
              "    <tr style=\"text-align: right;\">\n",
              "      <th></th>\n",
              "      <th>mean_fit_time</th>\n",
              "      <th>std_fit_time</th>\n",
              "      <th>mean_score_time</th>\n",
              "      <th>std_score_time</th>\n",
              "      <th>param_max_depth</th>\n",
              "      <th>param_n_estimators</th>\n",
              "      <th>params</th>\n",
              "      <th>split0_test_score</th>\n",
              "      <th>split1_test_score</th>\n",
              "      <th>mean_test_score</th>\n",
              "      <th>std_test_score</th>\n",
              "      <th>rank_test_score</th>\n",
              "    </tr>\n",
              "  </thead>\n",
              "  <tbody>\n",
              "    <tr>\n",
              "      <th>0</th>\n",
              "      <td>0.192870</td>\n",
              "      <td>0.001810</td>\n",
              "      <td>0.029695</td>\n",
              "      <td>0.000761</td>\n",
              "      <td>2</td>\n",
              "      <td>5</td>\n",
              "      <td>{'max_depth': 2, 'n_estimators': 5}</td>\n",
              "      <td>0.677506</td>\n",
              "      <td>0.717711</td>\n",
              "      <td>0.697609</td>\n",
              "      <td>0.020102</td>\n",
              "      <td>16</td>\n",
              "    </tr>\n",
              "    <tr>\n",
              "      <th>1</th>\n",
              "      <td>0.310358</td>\n",
              "      <td>0.000437</td>\n",
              "      <td>0.034475</td>\n",
              "      <td>0.000212</td>\n",
              "      <td>2</td>\n",
              "      <td>10</td>\n",
              "      <td>{'max_depth': 2, 'n_estimators': 10}</td>\n",
              "      <td>0.747403</td>\n",
              "      <td>0.748660</td>\n",
              "      <td>0.748032</td>\n",
              "      <td>0.000628</td>\n",
              "      <td>13</td>\n",
              "    </tr>\n",
              "    <tr>\n",
              "      <th>2</th>\n",
              "      <td>0.409530</td>\n",
              "      <td>0.005033</td>\n",
              "      <td>0.040145</td>\n",
              "      <td>0.000089</td>\n",
              "      <td>2</td>\n",
              "      <td>15</td>\n",
              "      <td>{'max_depth': 2, 'n_estimators': 15}</td>\n",
              "      <td>0.747424</td>\n",
              "      <td>0.743718</td>\n",
              "      <td>0.745571</td>\n",
              "      <td>0.001853</td>\n",
              "      <td>15</td>\n",
              "    </tr>\n",
              "    <tr>\n",
              "      <th>3</th>\n",
              "      <td>0.513284</td>\n",
              "      <td>0.008655</td>\n",
              "      <td>0.044579</td>\n",
              "      <td>0.000173</td>\n",
              "      <td>2</td>\n",
              "      <td>20</td>\n",
              "      <td>{'max_depth': 2, 'n_estimators': 20}</td>\n",
              "      <td>0.747424</td>\n",
              "      <td>0.743739</td>\n",
              "      <td>0.745582</td>\n",
              "      <td>0.001843</td>\n",
              "      <td>14</td>\n",
              "    </tr>\n",
              "    <tr>\n",
              "      <th>4</th>\n",
              "      <td>0.493396</td>\n",
              "      <td>0.009836</td>\n",
              "      <td>0.038897</td>\n",
              "      <td>0.000427</td>\n",
              "      <td>8</td>\n",
              "      <td>5</td>\n",
              "      <td>{'max_depth': 8, 'n_estimators': 5}</td>\n",
              "      <td>0.766249</td>\n",
              "      <td>0.770458</td>\n",
              "      <td>0.768354</td>\n",
              "      <td>0.002104</td>\n",
              "      <td>12</td>\n",
              "    </tr>\n",
              "    <tr>\n",
              "      <th>5</th>\n",
              "      <td>0.915966</td>\n",
              "      <td>0.008627</td>\n",
              "      <td>0.053396</td>\n",
              "      <td>0.000456</td>\n",
              "      <td>8</td>\n",
              "      <td>10</td>\n",
              "      <td>{'max_depth': 8, 'n_estimators': 10}</td>\n",
              "      <td>0.767150</td>\n",
              "      <td>0.773599</td>\n",
              "      <td>0.770374</td>\n",
              "      <td>0.003225</td>\n",
              "      <td>11</td>\n",
              "    </tr>\n",
              "    <tr>\n",
              "      <th>6</th>\n",
              "      <td>1.327037</td>\n",
              "      <td>0.024389</td>\n",
              "      <td>0.069708</td>\n",
              "      <td>0.000425</td>\n",
              "      <td>8</td>\n",
              "      <td>15</td>\n",
              "      <td>{'max_depth': 8, 'n_estimators': 15}</td>\n",
              "      <td>0.777410</td>\n",
              "      <td>0.778750</td>\n",
              "      <td>0.778080</td>\n",
              "      <td>0.000670</td>\n",
              "      <td>10</td>\n",
              "    </tr>\n",
              "    <tr>\n",
              "      <th>7</th>\n",
              "      <td>1.726243</td>\n",
              "      <td>0.036181</td>\n",
              "      <td>0.085655</td>\n",
              "      <td>0.000676</td>\n",
              "      <td>8</td>\n",
              "      <td>20</td>\n",
              "      <td>{'max_depth': 8, 'n_estimators': 20}</td>\n",
              "      <td>0.777452</td>\n",
              "      <td>0.781452</td>\n",
              "      <td>0.779452</td>\n",
              "      <td>0.002000</td>\n",
              "      <td>9</td>\n",
              "    </tr>\n",
              "    <tr>\n",
              "      <th>8</th>\n",
              "      <td>1.124585</td>\n",
              "      <td>0.006908</td>\n",
              "      <td>0.056216</td>\n",
              "      <td>0.000288</td>\n",
              "      <td>16</td>\n",
              "      <td>5</td>\n",
              "      <td>{'max_depth': 16, 'n_estimators': 5}</td>\n",
              "      <td>0.806244</td>\n",
              "      <td>0.806496</td>\n",
              "      <td>0.806370</td>\n",
              "      <td>0.000126</td>\n",
              "      <td>8</td>\n",
              "    </tr>\n",
              "    <tr>\n",
              "      <th>9</th>\n",
              "      <td>2.183312</td>\n",
              "      <td>0.010533</td>\n",
              "      <td>0.096120</td>\n",
              "      <td>0.001079</td>\n",
              "      <td>16</td>\n",
              "      <td>10</td>\n",
              "      <td>{'max_depth': 16, 'n_estimators': 10}</td>\n",
              "      <td>0.812819</td>\n",
              "      <td>0.811856</td>\n",
              "      <td>0.812338</td>\n",
              "      <td>0.000482</td>\n",
              "      <td>6</td>\n",
              "    </tr>\n",
              "    <tr>\n",
              "      <th>10</th>\n",
              "      <td>3.231195</td>\n",
              "      <td>0.014408</td>\n",
              "      <td>0.137395</td>\n",
              "      <td>0.002519</td>\n",
              "      <td>16</td>\n",
              "      <td>15</td>\n",
              "      <td>{'max_depth': 16, 'n_estimators': 15}</td>\n",
              "      <td>0.817468</td>\n",
              "      <td>0.815018</td>\n",
              "      <td>0.816243</td>\n",
              "      <td>0.001225</td>\n",
              "      <td>5</td>\n",
              "    </tr>\n",
              "    <tr>\n",
              "      <th>11</th>\n",
              "      <td>4.254425</td>\n",
              "      <td>0.023179</td>\n",
              "      <td>0.174499</td>\n",
              "      <td>0.000551</td>\n",
              "      <td>16</td>\n",
              "      <td>20</td>\n",
              "      <td>{'max_depth': 16, 'n_estimators': 20}</td>\n",
              "      <td>0.818724</td>\n",
              "      <td>0.817803</td>\n",
              "      <td>0.818264</td>\n",
              "      <td>0.000461</td>\n",
              "      <td>3</td>\n",
              "    </tr>\n",
              "    <tr>\n",
              "      <th>12</th>\n",
              "      <td>1.728186</td>\n",
              "      <td>0.002643</td>\n",
              "      <td>0.065642</td>\n",
              "      <td>0.000796</td>\n",
              "      <td>32</td>\n",
              "      <td>5</td>\n",
              "      <td>{'max_depth': 32, 'n_estimators': 5}</td>\n",
              "      <td>0.812987</td>\n",
              "      <td>0.810704</td>\n",
              "      <td>0.811846</td>\n",
              "      <td>0.001141</td>\n",
              "      <td>7</td>\n",
              "    </tr>\n",
              "    <tr>\n",
              "      <th>13</th>\n",
              "      <td>3.456965</td>\n",
              "      <td>0.008549</td>\n",
              "      <td>0.117366</td>\n",
              "      <td>0.001990</td>\n",
              "      <td>32</td>\n",
              "      <td>10</td>\n",
              "      <td>{'max_depth': 32, 'n_estimators': 10}</td>\n",
              "      <td>0.818682</td>\n",
              "      <td>0.816903</td>\n",
              "      <td>0.817793</td>\n",
              "      <td>0.000890</td>\n",
              "      <td>4</td>\n",
              "    </tr>\n",
              "    <tr>\n",
              "      <th>14</th>\n",
              "      <td>5.274856</td>\n",
              "      <td>0.014902</td>\n",
              "      <td>0.182912</td>\n",
              "      <td>0.000228</td>\n",
              "      <td>32</td>\n",
              "      <td>15</td>\n",
              "      <td>{'max_depth': 32, 'n_estimators': 15}</td>\n",
              "      <td>0.820756</td>\n",
              "      <td>0.820253</td>\n",
              "      <td>0.820504</td>\n",
              "      <td>0.000251</td>\n",
              "      <td>2</td>\n",
              "    </tr>\n",
              "    <tr>\n",
              "      <th>15</th>\n",
              "      <td>7.141052</td>\n",
              "      <td>0.001170</td>\n",
              "      <td>0.263496</td>\n",
              "      <td>0.002425</td>\n",
              "      <td>32</td>\n",
              "      <td>20</td>\n",
              "      <td>{'max_depth': 32, 'n_estimators': 20}</td>\n",
              "      <td>0.823185</td>\n",
              "      <td>0.823540</td>\n",
              "      <td>0.823363</td>\n",
              "      <td>0.000178</td>\n",
              "      <td>1</td>\n",
              "    </tr>\n",
              "  </tbody>\n",
              "</table>\n",
              "</div>\n",
              "      <button class=\"colab-df-convert\" onclick=\"convertToInteractive('df-57092a0b-173a-4da4-ad84-d1b89950010b')\"\n",
              "              title=\"Convert this dataframe to an interactive table.\"\n",
              "              style=\"display:none;\">\n",
              "        \n",
              "  <svg xmlns=\"http://www.w3.org/2000/svg\" height=\"24px\"viewBox=\"0 0 24 24\"\n",
              "       width=\"24px\">\n",
              "    <path d=\"M0 0h24v24H0V0z\" fill=\"none\"/>\n",
              "    <path d=\"M18.56 5.44l.94 2.06.94-2.06 2.06-.94-2.06-.94-.94-2.06-.94 2.06-2.06.94zm-11 1L8.5 8.5l.94-2.06 2.06-.94-2.06-.94L8.5 2.5l-.94 2.06-2.06.94zm10 10l.94 2.06.94-2.06 2.06-.94-2.06-.94-.94-2.06-.94 2.06-2.06.94z\"/><path d=\"M17.41 7.96l-1.37-1.37c-.4-.4-.92-.59-1.43-.59-.52 0-1.04.2-1.43.59L10.3 9.45l-7.72 7.72c-.78.78-.78 2.05 0 2.83L4 21.41c.39.39.9.59 1.41.59.51 0 1.02-.2 1.41-.59l7.78-7.78 2.81-2.81c.8-.78.8-2.07 0-2.86zM5.41 20L4 18.59l7.72-7.72 1.47 1.35L5.41 20z\"/>\n",
              "  </svg>\n",
              "      </button>\n",
              "      \n",
              "  <style>\n",
              "    .colab-df-container {\n",
              "      display:flex;\n",
              "      flex-wrap:wrap;\n",
              "      gap: 12px;\n",
              "    }\n",
              "\n",
              "    .colab-df-convert {\n",
              "      background-color: #E8F0FE;\n",
              "      border: none;\n",
              "      border-radius: 50%;\n",
              "      cursor: pointer;\n",
              "      display: none;\n",
              "      fill: #1967D2;\n",
              "      height: 32px;\n",
              "      padding: 0 0 0 0;\n",
              "      width: 32px;\n",
              "    }\n",
              "\n",
              "    .colab-df-convert:hover {\n",
              "      background-color: #E2EBFA;\n",
              "      box-shadow: 0px 1px 2px rgba(60, 64, 67, 0.3), 0px 1px 3px 1px rgba(60, 64, 67, 0.15);\n",
              "      fill: #174EA6;\n",
              "    }\n",
              "\n",
              "    [theme=dark] .colab-df-convert {\n",
              "      background-color: #3B4455;\n",
              "      fill: #D2E3FC;\n",
              "    }\n",
              "\n",
              "    [theme=dark] .colab-df-convert:hover {\n",
              "      background-color: #434B5C;\n",
              "      box-shadow: 0px 1px 3px 1px rgba(0, 0, 0, 0.15);\n",
              "      filter: drop-shadow(0px 1px 2px rgba(0, 0, 0, 0.3));\n",
              "      fill: #FFFFFF;\n",
              "    }\n",
              "  </style>\n",
              "\n",
              "      <script>\n",
              "        const buttonEl =\n",
              "          document.querySelector('#df-57092a0b-173a-4da4-ad84-d1b89950010b button.colab-df-convert');\n",
              "        buttonEl.style.display =\n",
              "          google.colab.kernel.accessAllowed ? 'block' : 'none';\n",
              "\n",
              "        async function convertToInteractive(key) {\n",
              "          const element = document.querySelector('#df-57092a0b-173a-4da4-ad84-d1b89950010b');\n",
              "          const dataTable =\n",
              "            await google.colab.kernel.invokeFunction('convertToInteractive',\n",
              "                                                     [key], {});\n",
              "          if (!dataTable) return;\n",
              "\n",
              "          const docLinkHtml = 'Like what you see? Visit the ' +\n",
              "            '<a target=\"_blank\" href=https://colab.research.google.com/notebooks/data_table.ipynb>data table notebook</a>'\n",
              "            + ' to learn more about interactive tables.';\n",
              "          element.innerHTML = '';\n",
              "          dataTable['output_type'] = 'display_data';\n",
              "          await google.colab.output.renderOutput(dataTable, element);\n",
              "          const docLink = document.createElement('div');\n",
              "          docLink.innerHTML = docLinkHtml;\n",
              "          element.appendChild(docLink);\n",
              "        }\n",
              "      </script>\n",
              "    </div>\n",
              "  </div>\n",
              "  "
            ],
            "text/plain": [
              "    mean_fit_time  std_fit_time  ...  std_test_score  rank_test_score\n",
              "0        0.192870      0.001810  ...        0.020102               16\n",
              "1        0.310358      0.000437  ...        0.000628               13\n",
              "2        0.409530      0.005033  ...        0.001853               15\n",
              "3        0.513284      0.008655  ...        0.001843               14\n",
              "4        0.493396      0.009836  ...        0.002104               12\n",
              "5        0.915966      0.008627  ...        0.003225               11\n",
              "6        1.327037      0.024389  ...        0.000670               10\n",
              "7        1.726243      0.036181  ...        0.002000                9\n",
              "8        1.124585      0.006908  ...        0.000126                8\n",
              "9        2.183312      0.010533  ...        0.000482                6\n",
              "10       3.231195      0.014408  ...        0.001225                5\n",
              "11       4.254425      0.023179  ...        0.000461                3\n",
              "12       1.728186      0.002643  ...        0.001141                7\n",
              "13       3.456965      0.008549  ...        0.000890                4\n",
              "14       5.274856      0.014902  ...        0.000251                2\n",
              "15       7.141052      0.001170  ...        0.000178                1\n",
              "\n",
              "[16 rows x 12 columns]"
            ]
          },
          "metadata": {},
          "execution_count": 99
        }
      ]
    },
    {
      "cell_type": "code",
      "source": [
        "from xgboost import XGBClassifier\n",
        "xg_model = XGBClassifier(max_depth=32,n_estimators=20)\n",
        "xg_model.fit(X_train,y_train)\n",
        "pred = xg_model.predict(X_test)\n",
        "acc = accuracy_score(pred,y_test)"
      ],
      "metadata": {
        "id": "wKr_OCwINDYt"
      },
      "execution_count": 100,
      "outputs": []
    },
    {
      "cell_type": "code",
      "source": [
        "#Updating results for final mode;\n",
        "Model_results = Model_results.append({\"Model\": \"XGboost\", \"Test accuracy\":acc},ignore_index=True)"
      ],
      "metadata": {
        "id": "A9Yd--QdNNQW"
      },
      "execution_count": 102,
      "outputs": []
    },
    {
      "cell_type": "markdown",
      "source": [
        "Analyzing the final table."
      ],
      "metadata": {
        "id": "X0bDEalBqwOL"
      }
    },
    {
      "cell_type": "code",
      "source": [
        "Model_results"
      ],
      "metadata": {
        "colab": {
          "base_uri": "https://localhost:8080/",
          "height": 551
        },
        "id": "XCv4WsUvq0kS",
        "outputId": "2e2fece4-e396-40ae-d4e5-43d5ec0f4563"
      },
      "execution_count": 103,
      "outputs": [
        {
          "output_type": "execute_result",
          "data": {
            "text/html": [
              "\n",
              "  <div id=\"df-bcf6b59a-8a8b-4929-a7b0-144eafe56789\">\n",
              "    <div class=\"colab-df-container\">\n",
              "      <div>\n",
              "<style scoped>\n",
              "    .dataframe tbody tr th:only-of-type {\n",
              "        vertical-align: middle;\n",
              "    }\n",
              "\n",
              "    .dataframe tbody tr th {\n",
              "        vertical-align: top;\n",
              "    }\n",
              "\n",
              "    .dataframe thead th {\n",
              "        text-align: right;\n",
              "    }\n",
              "</style>\n",
              "<table border=\"1\" class=\"dataframe\">\n",
              "  <thead>\n",
              "    <tr style=\"text-align: right;\">\n",
              "      <th></th>\n",
              "      <th>Model</th>\n",
              "      <th>Test accuracy</th>\n",
              "    </tr>\n",
              "  </thead>\n",
              "  <tbody>\n",
              "    <tr>\n",
              "      <th>0</th>\n",
              "      <td>Decision Tree</td>\n",
              "      <td>0.783860</td>\n",
              "    </tr>\n",
              "    <tr>\n",
              "      <th>1</th>\n",
              "      <td>SVM Linear : 0.5</td>\n",
              "      <td>0.727406</td>\n",
              "    </tr>\n",
              "    <tr>\n",
              "      <th>2</th>\n",
              "      <td>SVM Linear : 0.1</td>\n",
              "      <td>0.725438</td>\n",
              "    </tr>\n",
              "    <tr>\n",
              "      <th>3</th>\n",
              "      <td>SVM Linear : 1</td>\n",
              "      <td>0.720580</td>\n",
              "    </tr>\n",
              "    <tr>\n",
              "      <th>4</th>\n",
              "      <td>SVM Polynomial : 2</td>\n",
              "      <td>0.663205</td>\n",
              "    </tr>\n",
              "    <tr>\n",
              "      <th>5</th>\n",
              "      <td>SVM Polynomial : 3</td>\n",
              "      <td>0.664084</td>\n",
              "    </tr>\n",
              "    <tr>\n",
              "      <th>6</th>\n",
              "      <td>SVM Polynomial : 4</td>\n",
              "      <td>0.658472</td>\n",
              "    </tr>\n",
              "    <tr>\n",
              "      <th>7</th>\n",
              "      <td>SVM Rbf with gamma: 0.01</td>\n",
              "      <td>0.724768</td>\n",
              "    </tr>\n",
              "    <tr>\n",
              "      <th>8</th>\n",
              "      <td>SVM Rbf with gamma: 0.1</td>\n",
              "      <td>0.754795</td>\n",
              "    </tr>\n",
              "    <tr>\n",
              "      <th>9</th>\n",
              "      <td>SVM Rbf with gamma: 1</td>\n",
              "      <td>0.755423</td>\n",
              "    </tr>\n",
              "    <tr>\n",
              "      <th>10</th>\n",
              "      <td>L2 Logistic regression  with C: 1</td>\n",
              "      <td>0.719658</td>\n",
              "    </tr>\n",
              "    <tr>\n",
              "      <th>11</th>\n",
              "      <td>L2 Logistic regression  with C: 10</td>\n",
              "      <td>0.719658</td>\n",
              "    </tr>\n",
              "    <tr>\n",
              "      <th>12</th>\n",
              "      <td>L2 Logistic regression  with C: 0.1</td>\n",
              "      <td>0.719658</td>\n",
              "    </tr>\n",
              "    <tr>\n",
              "      <th>13</th>\n",
              "      <td>Gaussian NB</td>\n",
              "      <td>0.481029</td>\n",
              "    </tr>\n",
              "    <tr>\n",
              "      <th>14</th>\n",
              "      <td>Random Forest</td>\n",
              "      <td>0.817740</td>\n",
              "    </tr>\n",
              "    <tr>\n",
              "      <th>15</th>\n",
              "      <td>XGboost</td>\n",
              "      <td>0.836586</td>\n",
              "    </tr>\n",
              "  </tbody>\n",
              "</table>\n",
              "</div>\n",
              "      <button class=\"colab-df-convert\" onclick=\"convertToInteractive('df-bcf6b59a-8a8b-4929-a7b0-144eafe56789')\"\n",
              "              title=\"Convert this dataframe to an interactive table.\"\n",
              "              style=\"display:none;\">\n",
              "        \n",
              "  <svg xmlns=\"http://www.w3.org/2000/svg\" height=\"24px\"viewBox=\"0 0 24 24\"\n",
              "       width=\"24px\">\n",
              "    <path d=\"M0 0h24v24H0V0z\" fill=\"none\"/>\n",
              "    <path d=\"M18.56 5.44l.94 2.06.94-2.06 2.06-.94-2.06-.94-.94-2.06-.94 2.06-2.06.94zm-11 1L8.5 8.5l.94-2.06 2.06-.94-2.06-.94L8.5 2.5l-.94 2.06-2.06.94zm10 10l.94 2.06.94-2.06 2.06-.94-2.06-.94-.94-2.06-.94 2.06-2.06.94z\"/><path d=\"M17.41 7.96l-1.37-1.37c-.4-.4-.92-.59-1.43-.59-.52 0-1.04.2-1.43.59L10.3 9.45l-7.72 7.72c-.78.78-.78 2.05 0 2.83L4 21.41c.39.39.9.59 1.41.59.51 0 1.02-.2 1.41-.59l7.78-7.78 2.81-2.81c.8-.78.8-2.07 0-2.86zM5.41 20L4 18.59l7.72-7.72 1.47 1.35L5.41 20z\"/>\n",
              "  </svg>\n",
              "      </button>\n",
              "      \n",
              "  <style>\n",
              "    .colab-df-container {\n",
              "      display:flex;\n",
              "      flex-wrap:wrap;\n",
              "      gap: 12px;\n",
              "    }\n",
              "\n",
              "    .colab-df-convert {\n",
              "      background-color: #E8F0FE;\n",
              "      border: none;\n",
              "      border-radius: 50%;\n",
              "      cursor: pointer;\n",
              "      display: none;\n",
              "      fill: #1967D2;\n",
              "      height: 32px;\n",
              "      padding: 0 0 0 0;\n",
              "      width: 32px;\n",
              "    }\n",
              "\n",
              "    .colab-df-convert:hover {\n",
              "      background-color: #E2EBFA;\n",
              "      box-shadow: 0px 1px 2px rgba(60, 64, 67, 0.3), 0px 1px 3px 1px rgba(60, 64, 67, 0.15);\n",
              "      fill: #174EA6;\n",
              "    }\n",
              "\n",
              "    [theme=dark] .colab-df-convert {\n",
              "      background-color: #3B4455;\n",
              "      fill: #D2E3FC;\n",
              "    }\n",
              "\n",
              "    [theme=dark] .colab-df-convert:hover {\n",
              "      background-color: #434B5C;\n",
              "      box-shadow: 0px 1px 3px 1px rgba(0, 0, 0, 0.15);\n",
              "      filter: drop-shadow(0px 1px 2px rgba(0, 0, 0, 0.3));\n",
              "      fill: #FFFFFF;\n",
              "    }\n",
              "  </style>\n",
              "\n",
              "      <script>\n",
              "        const buttonEl =\n",
              "          document.querySelector('#df-bcf6b59a-8a8b-4929-a7b0-144eafe56789 button.colab-df-convert');\n",
              "        buttonEl.style.display =\n",
              "          google.colab.kernel.accessAllowed ? 'block' : 'none';\n",
              "\n",
              "        async function convertToInteractive(key) {\n",
              "          const element = document.querySelector('#df-bcf6b59a-8a8b-4929-a7b0-144eafe56789');\n",
              "          const dataTable =\n",
              "            await google.colab.kernel.invokeFunction('convertToInteractive',\n",
              "                                                     [key], {});\n",
              "          if (!dataTable) return;\n",
              "\n",
              "          const docLinkHtml = 'Like what you see? Visit the ' +\n",
              "            '<a target=\"_blank\" href=https://colab.research.google.com/notebooks/data_table.ipynb>data table notebook</a>'\n",
              "            + ' to learn more about interactive tables.';\n",
              "          element.innerHTML = '';\n",
              "          dataTable['output_type'] = 'display_data';\n",
              "          await google.colab.output.renderOutput(dataTable, element);\n",
              "          const docLink = document.createElement('div');\n",
              "          docLink.innerHTML = docLinkHtml;\n",
              "          element.appendChild(docLink);\n",
              "        }\n",
              "      </script>\n",
              "    </div>\n",
              "  </div>\n",
              "  "
            ],
            "text/plain": [
              "                                  Model  Test accuracy\n",
              "0                         Decision Tree       0.783860\n",
              "1                      SVM Linear : 0.5       0.727406\n",
              "2                      SVM Linear : 0.1       0.725438\n",
              "3                        SVM Linear : 1       0.720580\n",
              "4                    SVM Polynomial : 2       0.663205\n",
              "5                    SVM Polynomial : 3       0.664084\n",
              "6                    SVM Polynomial : 4       0.658472\n",
              "7              SVM Rbf with gamma: 0.01       0.724768\n",
              "8               SVM Rbf with gamma: 0.1       0.754795\n",
              "9                 SVM Rbf with gamma: 1       0.755423\n",
              "10    L2 Logistic regression  with C: 1       0.719658\n",
              "11   L2 Logistic regression  with C: 10       0.719658\n",
              "12  L2 Logistic regression  with C: 0.1       0.719658\n",
              "13                          Gaussian NB       0.481029\n",
              "14                        Random Forest       0.817740\n",
              "15                              XGboost       0.836586"
            ]
          },
          "metadata": {},
          "execution_count": 103
        }
      ]
    },
    {
      "cell_type": "markdown",
      "source": [
        "No Surprises here, XGboost turned out to be the best performing Model."
      ],
      "metadata": {
        "id": "74ndHFCxq5Nw"
      }
    }
  ]
}